{
 "cells": [
  {
   "cell_type": "code",
   "execution_count": 3,
   "id": "6c90d06c-45a9-4c29-85c3-6ef85658a52e",
   "metadata": {},
   "outputs": [],
   "source": [
    "import pandas as pd\n",
    "import matplotlib.pyplot as plt\n",
    "import seaborn as sns\n",
    "import numpy as np"
   ]
  },
  {
   "cell_type": "code",
   "execution_count": 4,
   "id": "ee1efef7-b608-470a-b36b-594fa47e4a85",
   "metadata": {},
   "outputs": [],
   "source": [
    "data = pd.read_csv(\"Video_Games_Sales_as_at_22_Dec_2016(222).csv\")"
   ]
  },
  {
   "cell_type": "code",
   "execution_count": 5,
   "id": "e7547819-c2f7-453e-a5b6-2dfe7ae519ef",
   "metadata": {},
   "outputs": [
    {
     "name": "stdout",
     "output_type": "stream",
     "text": [
      "<class 'pandas.core.frame.DataFrame'>\n",
      "RangeIndex: 16719 entries, 0 to 16718\n",
      "Data columns (total 16 columns):\n",
      " #   Column           Non-Null Count  Dtype  \n",
      "---  ------           --------------  -----  \n",
      " 0   Name             16717 non-null  object \n",
      " 1   Platform         16719 non-null  object \n",
      " 2   Year_of_Release  16450 non-null  float64\n",
      " 3   Genre            16717 non-null  object \n",
      " 4   Publisher        16665 non-null  object \n",
      " 5   NA_Sales         16719 non-null  float64\n",
      " 6   EU_Sales         16719 non-null  float64\n",
      " 7   JP_Sales         16719 non-null  float64\n",
      " 8   Other_Sales      16719 non-null  float64\n",
      " 9   Global_Sales     16719 non-null  float64\n",
      " 10  Critic_Score     8137 non-null   float64\n",
      " 11  Critic_Count     8137 non-null   float64\n",
      " 12  User_Score       10015 non-null  object \n",
      " 13  User_Count       7590 non-null   float64\n",
      " 14  Developer        10096 non-null  object \n",
      " 15  Rating           9950 non-null   object \n",
      "dtypes: float64(9), object(7)\n",
      "memory usage: 2.0+ MB\n"
     ]
    }
   ],
   "source": [
    "data.info()"
   ]
  },
  {
   "cell_type": "code",
   "execution_count": 6,
   "id": "6cbd2ba8-5697-4e98-b67a-41de5b6b97af",
   "metadata": {},
   "outputs": [],
   "source": [
    "data = data.rename(columns={\"Year_of_Release\": \"Year\", \n",
    "                            \"NA_Sales\": \"NA\",\n",
    "                            \"EU_Sales\": \"EU\",\n",
    "                            \"JP_Sales\": \"JP\",\n",
    "                            \"Other_Sales\": \"Other\",\n",
    "                            \"Global_Sales\": \"Global\"})"
   ]
  },
  {
   "cell_type": "code",
   "execution_count": 7,
   "id": "93254f3a-b435-4710-9565-9728ad3520e6",
   "metadata": {},
   "outputs": [
    {
     "name": "stdout",
     "output_type": "stream",
     "text": [
      "<class 'pandas.core.frame.DataFrame'>\n",
      "RangeIndex: 16719 entries, 0 to 16718\n",
      "Data columns (total 16 columns):\n",
      " #   Column        Non-Null Count  Dtype  \n",
      "---  ------        --------------  -----  \n",
      " 0   Name          16717 non-null  object \n",
      " 1   Platform      16719 non-null  object \n",
      " 2   Year          16450 non-null  float64\n",
      " 3   Genre         16717 non-null  object \n",
      " 4   Publisher     16665 non-null  object \n",
      " 5   NA            16719 non-null  float64\n",
      " 6   EU            16719 non-null  float64\n",
      " 7   JP            16719 non-null  float64\n",
      " 8   Other         16719 non-null  float64\n",
      " 9   Global        16719 non-null  float64\n",
      " 10  Critic_Score  8137 non-null   float64\n",
      " 11  Critic_Count  8137 non-null   float64\n",
      " 12  User_Score    10015 non-null  object \n",
      " 13  User_Count    7590 non-null   float64\n",
      " 14  Developer     10096 non-null  object \n",
      " 15  Rating        9950 non-null   object \n",
      "dtypes: float64(9), object(7)\n",
      "memory usage: 2.0+ MB\n"
     ]
    }
   ],
   "source": [
    "data.info()"
   ]
  },
  {
   "cell_type": "code",
   "execution_count": 8,
   "id": "429ac20a-d7fe-4dde-97bf-73ded3c7142e",
   "metadata": {},
   "outputs": [],
   "source": [
    "data = data[data[\"Year\"].notnull()]\n",
    "data = data[data[\"Genre\"].notnull()]"
   ]
  },
  {
   "cell_type": "code",
   "execution_count": 9,
   "id": "bc976222-c4cd-488b-a053-7e7f35d901d2",
   "metadata": {},
   "outputs": [],
   "source": [
    "data[\"Year\"] = data[\"Year\"].apply(int)\n",
    "data[\"Age\"] = 2018 - data[\"Year\"]"
   ]
  },
  {
   "cell_type": "code",
   "execution_count": 10,
   "id": "4d6bb63c-4222-406c-87c1-efad38c537d5",
   "metadata": {},
   "outputs": [
    {
     "data": {
      "image/png": "[encoded data removed]",
      "text/plain": [
       "<Figure size 640x480 with 1 Axes>"
      ]
     },
     "metadata": {},
     "output_type": "display_data"
    }
   ],
   "source": [
    "num_years = data[\"Year\"].max() - data[\"Year\"].min() + 1\n",
    "plt.hist(data[\"Year\"], bins=num_years, color=\"lightskyblue\", edgecolor=\"black\")\n",
    "plt.title(\"Distribution of year of release\")\n",
    "plt.xlabel(\"Year\")\n",
    "plt.ylabel(\"Number of games\");"
   ]
  },
  {
   "cell_type": "code",
   "execution_count": 11,
   "id": "da7af012-60dd-4dba-b3c7-ea38070ac4ac",
   "metadata": {},
   "outputs": [],
   "source": [
    "data[\"User_Score\"] = data[\"User_Score\"].replace(\"tbd\", np.nan).astype(float)"
   ]
  },
  {
   "cell_type": "code",
   "execution_count": 12,
   "id": "835c59ca-3ba7-4947-81f3-66418f2a0d14",
   "metadata": {},
   "outputs": [],
   "source": [
    "scored = data.dropna(subset=[\"User_Score\", \"Critic_Score\", \"Rating\"])"
   ]
  },
  {
   "cell_type": "code",
   "execution_count": 13,
   "id": "b3178aff-fe0b-4830-a4ca-0b0b86c1b92c",
   "metadata": {},
   "outputs": [
    {
     "data": {
      "text/plain": [
       "(16448, 17)"
      ]
     },
     "execution_count": 13,
     "metadata": {},
     "output_type": "execute_result"
    }
   ],
   "source": [
    "data.shape"
   ]
  },
  {
   "cell_type": "code",
   "execution_count": 14,
   "id": "540ce7ef-bae8-4326-91d9-2dce7f5a8a97",
   "metadata": {},
   "outputs": [
    {
     "data": {
      "text/plain": [
       "(array(['Wii', 'DS', 'X360', 'PS3', 'PS2', '3DS', 'PS4', 'PS', 'XB', 'PC',\n",
       "        'PSP', 'WiiU', 'GC', 'GBA', 'XOne', 'PSV', 'DC'], dtype=object),\n",
       " array(['Sports', 'Racing', 'Platform', 'Misc', 'Action', 'Puzzle',\n",
       "        'Shooter', 'Fighting', 'Simulation', 'Role-Playing', 'Adventure',\n",
       "        'Strategy'], dtype=object),\n",
       " array(['E', 'M', 'T', 'E10+', 'AO', 'K-A', 'RP'], dtype=object))"
      ]
     },
     "execution_count": 14,
     "metadata": {},
     "output_type": "execute_result"
    }
   ],
   "source": [
    "scored[\"Platform\"].unique(), scored[\"Genre\"].unique(), scored[\"Rating\"].unique()"
   ]
  },
  {
   "cell_type": "code",
   "execution_count": 15,
   "id": "9315f83a-2c11-4b4a-8a98-442d2ab95c43",
   "metadata": {},
   "outputs": [],
   "source": [
    "import category_encoders as ce\n",
    "# Select the numeric columns\n",
    "numeric_subset = scored.select_dtypes(\"number\").drop(columns=[\"NA\", \"EU\", \"JP\", \"Other\", \"Year\"])\n",
    "\n",
    "# Select the categorical column\n",
    "categorical_subset = scored[[\"Platform\", \"Genre\", \"Rating\"]]\n",
    "\n",
    "# One hot encode\n",
    "encoder = ce.one_hot.OneHotEncoder()\n",
    "categorical_subset = encoder.fit_transform(categorical_subset)\n",
    "\n",
    "# Join the two dataframes using concat\n",
    "# Make sure to use axis = 1 to perform a column bind\n",
    "features = pd.concat([numeric_subset, categorical_subset], axis = 1)\n",
    "\n",
    "# Find correlations with the score \n",
    "correlations = features.corr()[\"Global\"].dropna().sort_values()"
   ]
  },
  {
   "cell_type": "code",
   "execution_count": 16,
   "id": "8721ff60-fc9f-4519-ae3e-e460ef255dfd",
   "metadata": {},
   "outputs": [
    {
     "data": {
      "text/plain": [
       "Platform_10   -0.081154\n",
       "Rating_3      -0.073834\n",
       "Platform_9    -0.061537\n",
       "Genre_12      -0.053254\n",
       "Genre_11      -0.044695\n",
       "Name: Global, dtype: float64"
      ]
     },
     "execution_count": 16,
     "metadata": {},
     "output_type": "execute_result"
    }
   ],
   "source": [
    "correlations.head(5)"
   ]
  },
  {
   "cell_type": "code",
   "execution_count": 17,
   "id": "b1833710-563b-43be-b634-79a8766d40ae",
   "metadata": {},
   "outputs": [
    {
     "data": {
      "text/plain": [
       "User_Score      0.088427\n",
       "Critic_Score    0.237582\n",
       "User_Count      0.264133\n",
       "Critic_Count    0.290394\n",
       "Global          1.000000\n",
       "Name: Global, dtype: float64"
      ]
     },
     "execution_count": 17,
     "metadata": {},
     "output_type": "execute_result"
    }
   ],
   "source": [
    "correlations.tail(5)"
   ]
  },
  {
   "cell_type": "code",
   "execution_count": 18,
   "id": "51f7e829-54b3-4772-a2a6-dd333df17ddd",
   "metadata": {},
   "outputs": [
    {
     "name": "stdout",
     "output_type": "stream",
     "text": [
      "(5460, 41)\n",
      "(1366, 41)\n",
      "(5460,)\n",
      "(1366,)\n",
      "Baseline guess for global sales is: 0.29\n",
      "Baseline Performance on the test set: MAE = 0.6826\n"
     ]
    }
   ],
   "source": [
    "from sklearn.model_selection import train_test_split\n",
    "basic_target = pd.Series(features[\"Global\"])\n",
    "basic_features = features.drop(columns=\"Global\")\n",
    "features_train, features_test, target_train, target_test = train_test_split(basic_features, basic_target, \n",
    "                                                                            test_size=0.2,\n",
    "                                                                            random_state=42)\n",
    "print(features_train.shape)\n",
    "print(features_test.shape)\n",
    "print(target_train.shape)\n",
    "print(target_test.shape)\n",
    "(4427, 42)\n",
    "(1107, 42)\n",
    "(4427,)\n",
    "(1107,)\n",
    "\n",
    "\n",
    "def mae(y_true, y_pred):\n",
    "    return np.average(abs(y_true - y_pred))\n",
    "\n",
    "\n",
    "baseline_guess = np.median(target_train)\n",
    "basic_baseline_mae = mae(target_test, baseline_guess)\n",
    "print(\"Baseline guess for global sales is: {:.02f}\".format(baseline_guess))\n",
    "print(\"Baseline Performance on the test set: MAE = {:.04f}\".format(basic_baseline_mae))\n",
    "\n"
   ]
  },
  {
   "cell_type": "code",
   "execution_count": 19,
   "id": "edca2a1b-259b-4844-b7aa-f1fd4783f861",
   "metadata": {},
   "outputs": [
    {
     "name": "stdout",
     "output_type": "stream",
     "text": [
      "R² Score for baseline model: -0.0998\n",
      "Baseline MSE: 2.9901\n"
     ]
    }
   ],
   "source": [
    "from sklearn.metrics import r2_score\n",
    "\n",
    "# Create an array of predictions (all same as the median guess)\n",
    "baseline_predictions = np.full(shape=len(target_test), fill_value=baseline_guess)\n",
    "\n",
    "# Calculate R² score\n",
    "baseline_r2 = r2_score(target_test, baseline_predictions)\n",
    "\n",
    "print(\"R² Score for baseline model: {:.4f}\".format(baseline_r2))\n",
    "\n",
    "from sklearn.metrics import mean_squared_error\n",
    "\n",
    "baseline_mse = mean_squared_error(target_test, baseline_predictions)\n",
    "print(\"Baseline MSE: {:.4f}\".format(baseline_mse))\n",
    "\n"
   ]
  },
  {
   "cell_type": "code",
   "execution_count": null,
   "id": "878acbd0-7773-4155-a052-0cd1929cbe5a",
   "metadata": {},
   "outputs": [],
   "source": []
  },
  {
   "cell_type": "code",
   "execution_count": 20,
   "id": "4a3d52d0-b206-409b-b9fa-f9912186d531",
   "metadata": {},
   "outputs": [],
   "source": [
    "from sklearn.linear_model import LinearRegression, Ridge\n",
    "from sklearn.ensemble import RandomForestRegressor, GradientBoostingRegressor\n",
    "from sklearn.svm import SVR\n",
    "from sklearn.neighbors import KNeighborsRegressor"
   ]
  },
  {
   "cell_type": "code",
   "execution_count": 21,
   "id": "4ae0734c-5818-41d5-acc4-0651f4bd6413",
   "metadata": {},
   "outputs": [],
   "source": [
    "from sklearn.metrics import r2_score\n",
    "\n",
    "def fit_and_evaluate(model):\n",
    "    # Train the model\n",
    "    model.fit(features_train, target_train)\n",
    "    \n",
    "    # Make predictions\n",
    "    model_pred = model.predict(features_test)\n",
    "    \n",
    "    # Calculate MAE\n",
    "    model_mae = mae(target_test, model_pred)\n",
    "    \n",
    "    # Calculate R² Score\n",
    "    model_r2 = r2_score(target_test, model_pred)\n",
    "    \n",
    "    # Print and return both metrics\n",
    "    print(f\"Model Performance:\\n - MAE = {model_mae:.4f}\\n - R² Score = {model_r2:.4f}\")\n",
    "    \n",
    "    return model_mae, model_r2\n"
   ]
  },
  {
   "cell_type": "code",
   "execution_count": 22,
   "id": "93bd6064-89b8-44c6-a723-9d6a2614109c",
   "metadata": {},
   "outputs": [
    {
     "name": "stdout",
     "output_type": "stream",
     "text": [
      "Model Performance:\n",
      " - MAE = 0.7104\n",
      " - R² Score = 0.2762\n",
      "Linear Regression Performance on the test set:\n",
      " - MAE = 0.7104\n",
      " - R² = 0.2762\n"
     ]
    }
   ],
   "source": [
    "lr = LinearRegression()\n",
    "results = fit_and_evaluate(lr)\n",
    "\n",
    "print(\"Linear Regression Performance on the test set:\\n - MAE = {:.04f}\\n - R² = {:.04f}\".format(results[0], results[1]))\n"
   ]
  },
  {
   "cell_type": "code",
   "execution_count": 23,
   "id": "7390708c-3a51-4ad4-a818-a4c9ae6b5c0f",
   "metadata": {},
   "outputs": [
    {
     "name": "stdout",
     "output_type": "stream",
     "text": [
      "Model Performance:\n",
      " - MAE = 0.7793\n",
      " - R² Score = 0.0557\n",
      "Support Vector Machine Regression Performance on the test set:\n",
      " - MAE = 0.7793\n",
      " - R² = 0.0557\n"
     ]
    }
   ],
   "source": [
    "svm = SVR(C=1000, gamma=0.1)\n",
    "svm_mae, svm_r2 = fit_and_evaluate(svm)\n",
    "\n",
    "print(\"Support Vector Machine Regression Performance on the test set:\\n - MAE = {:.04f}\\n - R² = {:.04f}\".format(svm_mae, svm_r2))\n"
   ]
  },
  {
   "cell_type": "code",
   "execution_count": 24,
   "id": "09393319-ac51-4d88-8475-799acf8bd926",
   "metadata": {},
   "outputs": [
    {
     "name": "stdout",
     "output_type": "stream",
     "text": [
      "Model Performance:\n",
      " - MAE = 0.5224\n",
      " - R² Score = 0.4214\n",
      "Random Forest Regression Performance on the test set:\n",
      " - MAE = 0.5224\n",
      " - R² Score = 0.4214\n"
     ]
    }
   ],
   "source": [
    "random_forest = RandomForestRegressor(random_state=60)\n",
    "random_forest_mae, random_forest_r2 = fit_and_evaluate(random_forest)\n",
    "\n",
    "print(\"Random Forest Regression Performance on the test set:\")\n",
    "print(\" - MAE = {:.04f}\".format(random_forest_mae))\n",
    "print(\" - R² Score = {:.04f}\".format(random_forest_r2))"
   ]
  },
  {
   "cell_type": "code",
   "execution_count": 25,
   "id": "27468241-c948-4e08-8ee0-b780fa8366d3",
   "metadata": {},
   "outputs": [
    {
     "name": "stdout",
     "output_type": "stream",
     "text": [
      "Model Performance:\n",
      " - MAE = 0.5344\n",
      " - R² Score = 0.3853\n",
      "Gradient Boosting Regression Performance on the test set:\n",
      " - MAE = 0.5344\n",
      " - R² Score = 0.3853\n"
     ]
    }
   ],
   "source": [
    "gradient_boosting = GradientBoostingRegressor(random_state=60)\n",
    "gradient_boosting_mae, gradient_boosting_r2 = fit_and_evaluate(gradient_boosting)\n",
    "\n",
    "print(\"Gradient Boosting Regression Performance on the test set:\")\n",
    "print(\" - MAE = {:.04f}\".format(gradient_boosting_mae))\n",
    "print(\" - R² Score = {:.04f}\".format(gradient_boosting_r2))\n"
   ]
  },
  {
   "cell_type": "code",
   "execution_count": 26,
   "id": "dd610068-91c2-492a-83a9-30c5674246b3",
   "metadata": {},
   "outputs": [
    {
     "name": "stdout",
     "output_type": "stream",
     "text": [
      "Model Performance:\n",
      " - MAE = 0.7056\n",
      " - R² Score = 0.0906\n",
      "K-Nearest Neighbors Regression Performance on the test set:\n",
      " - MAE = 0.7056\n",
      " - R² Score = 0.0906\n"
     ]
    }
   ],
   "source": [
    "knn = KNeighborsRegressor(n_neighbors=10)\n",
    "knn_mae, knn_r2 = fit_and_evaluate(knn)\n",
    "\n",
    "print(\"K-Nearest Neighbors Regression Performance on the test set:\")\n",
    "print(\" - MAE = {:.04f}\".format(knn_mae))\n",
    "print(\" - R² Score = {:.04f}\".format(knn_r2))\n"
   ]
  },
  {
   "cell_type": "code",
   "execution_count": 27,
   "id": "25703bbb-e167-4bfe-acc6-bd4e2701327e",
   "metadata": {},
   "outputs": [
    {
     "name": "stdout",
     "output_type": "stream",
     "text": [
      "Model Performance:\n",
      " - MAE = 0.7075\n",
      " - R² Score = 0.2766\n",
      "Ridge Regression Performance on the test set:\n",
      " - MAE = 0.7075\n",
      " - R² Score = 0.2766\n"
     ]
    }
   ],
   "source": [
    "ridge = Ridge(alpha=10)\n",
    "ridge_mae, ridge_r2 = fit_and_evaluate(ridge)\n",
    "\n",
    "print(\"Ridge Regression Performance on the test set:\")\n",
    "print(\" - MAE = {:.04f}\".format(ridge_mae))\n",
    "print(\" - R² Score = {:.04f}\".format(ridge_r2))"
   ]
  },
  {
   "cell_type": "code",
   "execution_count": 28,
   "id": "ef2cc084-5bf1-4a37-8662-2cbc15ce427e",
   "metadata": {},
   "outputs": [
    {
     "data": {
      "image/png": "[encoded data removed]",
      "text/plain": [
       "<Figure size 640x480 with 1 Axes>"
      ]
     },
     "metadata": {},
     "output_type": "display_data"
    },
    {
     "data": {
      "image/png": "[encoded data removed]",
      "text/plain": [
       "<Figure size 640x480 with 1 Axes>"
      ]
     },
     "metadata": {},
     "output_type": "display_data"
    },
    {
     "name": "stdout",
     "output_type": "stream",
     "text": [
      "\n",
      "📊 Final Model Scores:\n",
      "                 Model      MAE       R2\n",
      "         Random Forest 0.522423 0.421445\n",
      "     Gradient Boosting 0.534372 0.385331\n",
      "                 Ridge 0.707519 0.276619\n",
      "     Linear Regression 0.710358 0.276233\n",
      "   K-Nearest Neighbors 0.705605 0.090571\n",
      "Support Vector Machine 0.779337 0.055682\n",
      "     Baseline (median) 0.682599 0.000000\n"
     ]
    }
   ],
   "source": [
    "from sklearn.metrics import r2_score\n",
    "import matplotlib.pyplot as plt\n",
    "import pandas as pd\n",
    "\n",
    "# Updated function to return both MAE and R²\n",
    "def fit_and_evaluate(model):\n",
    "    model.fit(features_train, target_train)\n",
    "    preds = model.predict(features_test)\n",
    "    return mae(target_test, preds), r2_score(target_test, preds)\n",
    "\n",
    "# Fit models\n",
    "lr_mae, lr_r2 = fit_and_evaluate(LinearRegression())\n",
    "svm_mae, svm_r2 = fit_and_evaluate(SVR(C=1000, gamma=0.1))\n",
    "random_forest_mae, random_forest_r2 = fit_and_evaluate(RandomForestRegressor(random_state=60))\n",
    "gradient_boosting_mae, gradient_boosting_r2 = fit_and_evaluate(GradientBoostingRegressor(random_state=60))\n",
    "knn_mae, knn_r2 = fit_and_evaluate(KNeighborsRegressor(n_neighbors=10))\n",
    "ridge_mae, ridge_r2 = fit_and_evaluate(Ridge(alpha=10))\n",
    "\n",
    "# Baseline R² is always 0 (predicting median is like constant model)\n",
    "baseline_guess = np.median(target_train)\n",
    "basic_baseline_mae = mae(target_test, baseline_guess)\n",
    "basic_baseline_r2 = 0\n",
    "\n",
    "# Store in DataFrame\n",
    "model_comparison = pd.DataFrame({\n",
    "    \"Model\": [\"Linear Regression\", \"Support Vector Machine\", \"Random Forest\", \n",
    "              \"Gradient Boosting\", \"K-Nearest Neighbors\", \"Baseline (median)\", \"Ridge\"],\n",
    "    \"MAE\": [lr_mae, svm_mae, random_forest_mae, gradient_boosting_mae,\n",
    "            knn_mae, basic_baseline_mae, ridge_mae],\n",
    "    \"R2\": [lr_r2, svm_r2, random_forest_r2, gradient_boosting_r2,\n",
    "           knn_r2, basic_baseline_r2, ridge_r2]\n",
    "})\n",
    "\n",
    "# Plot MAE\n",
    "model_comparison.sort_values(\"MAE\", ascending=False).plot(\n",
    "    x=\"Model\", y=\"MAE\", kind=\"barh\", color=\"skyblue\", legend=False)\n",
    "plt.title(\"Model Comparison on Test MAE\", size=16)\n",
    "plt.xlabel(\"Mean Absolute Error\")\n",
    "plt.ylabel(\"\")\n",
    "plt.xticks(size=12)\n",
    "plt.yticks(size=12)\n",
    "plt.grid(axis='x')\n",
    "plt.show()\n",
    "\n",
    "# Plot R²\n",
    "model_comparison.sort_values(\"R2\", ascending=True).plot(\n",
    "    x=\"Model\", y=\"R2\", kind=\"barh\", color=\"mediumseagreen\", legend=False)\n",
    "plt.title(\"Model Comparison on Test R² Score\", size=16)\n",
    "plt.xlabel(\"R² Score\")\n",
    "plt.ylabel(\"\")\n",
    "plt.xticks(size=12)\n",
    "plt.yticks(size=12)\n",
    "plt.grid(axis='x')\n",
    "plt.show()\n",
    "\n",
    "# Print final scores\n",
    "print(\"\\n📊 Final Model Scores:\")\n",
    "print(model_comparison.sort_values(\"R2\", ascending=False).to_string(index=False))\n"
   ]
  },
  {
   "cell_type": "code",
   "execution_count": null,
   "id": "bdcd2ccb-2e7d-4d1f-ad43-f633caeb2f72",
   "metadata": {},
   "outputs": [],
   "source": []
  },
  {
   "cell_type": "code",
   "execution_count": null,
   "id": "bb55c4dc-bf2a-4f08-b806-330121b0e58c",
   "metadata": {},
   "outputs": [],
   "source": []
  },
  {
   "cell_type": "code",
   "execution_count": 2,
   "id": "9081e77c-f207-4c49-96f9-d49f0189a08c",
   "metadata": {},
   "outputs": [
    {
     "ename": "NameError",
     "evalue": "name 'data' is not defined",
     "output_type": "error",
     "traceback": [
      "\u001b[1;31m---------------------------------------------------------------------------\u001b[0m",
      "\u001b[1;31mNameError\u001b[0m                                 Traceback (most recent call last)",
      "Cell \u001b[1;32mIn[2], line 1\u001b[0m\n\u001b[1;32m----> 1\u001b[0m \u001b[43mdata\u001b[49m[\u001b[38;5;124m\"\u001b[39m\u001b[38;5;124mPlatform\u001b[39m\u001b[38;5;124m\"\u001b[39m]\u001b[38;5;241m.\u001b[39mnunique()\n",
      "\u001b[1;31mNameError\u001b[0m: name 'data' is not defined"
     ]
    }
   ],
   "source": [
    "data[\"Platform\"].nunique()"
   ]
  },
  {
   "cell_type": "code",
   "execution_count": null,
   "id": "9ce14f89-d675-4286-811d-c67b5196cc03",
   "metadata": {},
   "outputs": [],
   "source": [
    "platforms = {\"Playstation\" : [\"PS\", \"PS2\", \"PS3\", \"PS4\"],\n",
    "             \"Xbox\" : [\"XB\", \"X360\", \"XOne\"], \n",
    "             \"PC\" : [\"PC\"],\n",
    "             \"Nintendo\" : [\"Wii\", \"WiiU\"],\n",
    "             \"Portable\" : [\"GB\", \"GBA\", \"GC\", \"DS\", \"3DS\", \"PSP\", \"PSV\"]}"
   ]
  },
  {
   "cell_type": "code",
   "execution_count": null,
   "id": "21759606-133a-45a9-a4b5-1e598400c06f",
   "metadata": {},
   "outputs": [],
   "source": [
    "def donut_chart(column, palette=\"Set2\"):\n",
    "    values = column.value_counts().values\n",
    "    labels = column.value_counts().index\n",
    "    plt.pie(values, colors=sns.color_palette(palette), \n",
    "            labels=labels, autopct=\"%1.1f%%\", \n",
    "            startangle=90, pctdistance=0.85)\n",
    "    #draw circle\n",
    "    centre_circle = plt.Circle((0,0), 0.70, fc=\"white\")\n",
    "    fig = plt.gcf()\n",
    "    fig.gca().add_artist(centre_circle)\n",
    "\n",
    "\n",
    "def get_group_label(x, groups=None):\n",
    "    if groups is None:\n",
    "        return \"Other\"\n",
    "    else:\n",
    "        for key, val in groups.items():\n",
    "            if x in val:\n",
    "                return key\n",
    "        return \"Other\"\n",
    "data[\"Grouped_Platform\"] = data[\"Platform\"].apply(lambda x: get_group_label(x, groups=platforms))\n",
    "donut_chart(data[\"Grouped_Platform\"])\n",
    "plt.title(\"Groups of platforms\")\n",
    "plt.axis(\"equal\");\n"
   ]
  },
  {
   "cell_type": "code",
   "execution_count": null,
   "id": "9ed04435-d2aa-411a-9a94-3cee74407bcb",
   "metadata": {},
   "outputs": [],
   "source": [
    "donut_chart(data[\"Genre\"], palette=\"muted\")\n",
    "plt.title(\"Genres\")\n",
    "plt.axis(\"equal\");\n"
   ]
  },
  {
   "cell_type": "code",
   "execution_count": null,
   "id": "66c77c0d-b1ee-4ef7-81de-4c4cfdb79d43",
   "metadata": {},
   "outputs": [],
   "source": [
    "scored[\"Grouped_Platform\"] = scored[\"Platform\"].apply(lambda x: get_group_label(x, platforms))\n",
    "donut_chart(scored[\"Grouped_Platform\"])\n",
    "plt.title(\"Groups of platforms for games with score\")\n",
    "plt.axis(\"equal\");"
   ]
  },
  {
   "cell_type": "code",
   "execution_count": null,
   "id": "64217d34-ca7f-465b-9ebf-ed3a1c0663e4",
   "metadata": {},
   "outputs": [],
   "source": [
    "scored[\"Weighted_Score\"] = (scored[\"User_Score\"] * 10 * scored[\"User_Count\"] + \n",
    "                            scored[\"Critic_Score\"] * scored[\"Critic_Count\"]) / (scored[\"User_Count\"] + scored[\"Critic_Count\"])\n",
    "devs = pd.DataFrame({\"dev\": scored[\"Developer\"].value_counts().index,\n",
    "                     \"count\": scored[\"Developer\"].value_counts().values})\n",
    "m_score = pd.DataFrame({\"dev\": scored.groupby(\"Developer\")[\"Weighted_Score\"].mean().index,\n",
    "                        \"mean_score\": scored.groupby(\"Developer\")[\"Weighted_Score\"].mean().values})\n",
    "devs = pd.merge(devs, m_score, on=\"dev\")\n",
    "devs = devs.sort_values(by=\"count\", ascending=True)\n",
    "devs[\"percent\"] = devs[\"count\"] / devs[\"count\"].sum()\n",
    "devs[\"top%\"] = devs[\"percent\"].cumsum() * 100\n",
    "n_groups = 5\n",
    "devs[\"top_group\"] = (devs[\"top%\"] * n_groups) // 100 + 1\n",
    "devs[\"top_group\"].iloc[-1] = n_groups\n",
    "devs"
   ]
  },
  {
   "cell_type": "code",
   "execution_count": null,
   "id": "7c226769-68c5-4821-aff5-bc7beaefc580",
   "metadata": {},
   "outputs": [],
   "source": [
    "\n",
    "from matplotlib.lines import Line2D\n",
    "\n",
    "pal = sns.color_palette(\"RdYlGn\", n_groups)\n",
    "g = sns.JointGrid(x=\"top%\", y=\"mean_score\", data=devs, height=12)\n",
    "legend_elements = []\n",
    "for k in range(0, n_groups):\n",
    "    g.ax_joint.scatter(devs[devs[\"top_group\"]==k+1][\"top%\"], \n",
    "                       devs[devs[\"top_group\"]==k+1][\"mean_score\"],\n",
    "                       color=pal[k], alpha=.9, edgecolor=\"black\")\n",
    "    legend_elements.append(Line2D([0], [0], label=k+1, marker=\"o\", ls=\"\", \n",
    "                                  mfc=pal[k], mec=pal[k], alpha=.9, markersize=15))\n",
    "    g.ax_marg_x.bar(np.arange(k * 100 / n_groups, (k+1) * 100 / n_groups), \n",
    "                    devs[devs[\"top_group\"]==k+1].shape[0], \n",
    "                    width=1, align=\"edge\", color=pal[k], alpha=.9)\n",
    "g.ax_marg_y.hist(devs[\"mean_score\"], color=pal[-1], alpha=.9,\n",
    "                 orientation=\"horizontal\", bins=25, edgecolor=\"white\")\n",
    "g.set_axis_labels(\"Top %\", \"Mean Weighted Score\")\n",
    "g.ax_joint.tick_params(labelsize=15)\n",
    "g.ax_marg_x.grid(False)\n",
    "g.ax_marg_y.grid(False)\n",
    "#g.ax_joint.legend(handles=legend_elements, title=\"Top Group\", loc=4)\n",
    "plt.subplots_adjust(top=0.9)\n",
    "g.fig.suptitle(\"Developers\");"
   ]
  },
  {
   "cell_type": "code",
   "execution_count": null,
   "id": "251af4e1-b2e6-4fcd-88bb-06120ffa34a4",
   "metadata": {},
   "outputs": [],
   "source": [
    "data.shape"
   ]
  },
  {
   "cell_type": "code",
   "execution_count": null,
   "id": "a164dbb5-aaff-428a-8734-5ec39c1399ff",
   "metadata": {},
   "outputs": [],
   "source": [
    "# Fill missing numeric columns with 0.0\n",
    "data[\"Critic_Score\"] = data[\"Critic_Score\"].fillna(0.0)\n",
    "data[\"Critic_Count\"] = data[\"Critic_Count\"].fillna(0.0)\n",
    "data[\"User_Score\"] = data[\"User_Score\"].fillna(0.0)\n",
    "data[\"User_Count\"] = data[\"User_Count\"].fillna(0.0)\n",
    "\n",
    "# Join devs info\n",
    "data = data.join(devs.set_index(\"dev\")[\"top_group\"], on=\"Developer\")\n",
    "data = data.rename(columns={\"top_group\": \"Developer_Rank\"})\n",
    "\n",
    "# Fill remaining nulls\n",
    "data[\"Developer_Rank\"] = data[\"Developer_Rank\"].fillna(0.0)\n",
    "data[\"Rating\"] = data[\"Rating\"].fillna(\"None\")\n"
   ]
  },
  {
   "cell_type": "code",
   "execution_count": null,
   "id": "3c35f0c9-ab12-459f-8510-bcd36262f711",
   "metadata": {},
   "outputs": [],
   "source": [
    "data[\"Weighted_Score\"] = (\n",
    "    (data[\"User_Score\"] * 10 * data[\"User_Count\"] + \n",
    "     data[\"Critic_Score\"] * data[\"Critic_Count\"]) /\n",
    "    (data[\"User_Count\"] + data[\"Critic_Count\"])\n",
    ")\n",
    "\n",
    "data[\"Weighted_Score\"] = data[\"Weighted_Score\"].fillna(0.0)\n"
   ]
  },
  {
   "cell_type": "code",
   "execution_count": null,
   "id": "f662dd49-4cfc-4762-8a41-c410fc21962a",
   "metadata": {},
   "outputs": [],
   "source": [
    "data.info()"
   ]
  },
  {
   "cell_type": "code",
   "execution_count": null,
   "id": "f08c9e7f-8096-46d6-82d0-b37718ee748a",
   "metadata": {},
   "outputs": [],
   "source": [
    "import pandas as pd\n",
    "import numpy as np\n",
    "\n",
    "# Select the numeric columns\n",
    "numeric_subset = data.select_dtypes(\"number\").drop(columns=[\"NA\", \"EU\", \"JP\", \"Other\", \"Year\"])\n",
    "\n",
    "# Select the categorical columns\n",
    "categorical_subset = data[[\"Grouped_Platform\", \"Genre\", \"Rating\"]]\n",
    "\n",
    "# One-Hot Encode the categorical columns\n",
    "categorical_subset = pd.get_dummies(categorical_subset, drop_first=True)\n",
    "\n",
    "# Join the two dataframes using concat\n",
    "# Make sure to use axis = 1 to perform a column bind\n",
    "features = pd.concat([numeric_subset, categorical_subset], axis=1)\n",
    "\n",
    "# Find correlations with the score \n",
    "correlations = features.corr()[\"Global\"].dropna().sort_values()\n"
   ]
  },
  {
   "cell_type": "code",
   "execution_count": null,
   "id": "cc81c813-db8b-4003-9594-b23832e7f977",
   "metadata": {},
   "outputs": [],
   "source": [
    "target = pd.Series(features[\"Global\"])\n",
    "features = features.drop(columns=\"Global\")\n",
    "features_train, features_test, target_train, target_test = train_test_split(features, target, \n",
    "                                                                            test_size=0.2,\n",
    "                                                                            random_state=42)\n",
    "baseline_guess = np.median(target_train)\n",
    "baseline_mae = mae(target_test, baseline_guess)\n",
    "print(\"Baseline guess for global sales is: {:.02f}\".format(baseline_guess))\n",
    "print(\"Baseline Performance on the test set: MAE = {:.04f}\".format(baseline_mae))"
   ]
  },
  {
   "cell_type": "code",
   "execution_count": null,
   "id": "a7584bd3-2a6e-440c-a656-a41406e3aeb6",
   "metadata": {},
   "outputs": [],
   "source": [
    "# Loss function to be optimized\n",
    "loss = [\"ls\", \"lad\", \"huber\"]\n",
    "\n",
    "# Maximum depth of each tree\n",
    "max_depth = [2, 3, 5, 10, 15]\n",
    "\n",
    "# Minimum number of samples per leaf\n",
    "min_samples_leaf = [1, 2, 4, 6, 8]\n",
    "\n",
    "# Minimum number of samples to split a node\n",
    "min_samples_split = [2, 4, 6, 10]\n",
    "\n",
    "# Maximum number of features to consider for making splits\n",
    "max_features = [\"auto\", \"sqrt\", \"log2\", None]\n",
    "\n",
    "hyperparameter_grid = {\"loss\": loss,\n",
    "                       \"max_depth\": max_depth,\n",
    "                       \"min_samples_leaf\": min_samples_leaf,\n",
    "                       \"min_samples_split\": min_samples_split,\n",
    "                       \"max_features\": max_features}"
   ]
  },
  {
   "cell_type": "code",
   "execution_count": null,
   "id": "ecb1f9a2-56a9-4cef-9270-2ecaf422e08a",
   "metadata": {},
   "outputs": [],
   "source": [
    "from sklearn.model_selection import RandomizedSearchCV\n",
    "from sklearn.model_selection import GridSearchCV\n",
    "\n",
    "\n",
    "\n",
    "model = GradientBoostingRegressor(random_state = 42)\n",
    "\n",
    "random_cv = RandomizedSearchCV(estimator=model,\n",
    "                               param_distributions=hyperparameter_grid,\n",
    "                               cv=4, n_iter=20, \n",
    "                               scoring=\"neg_mean_absolute_error\",\n",
    "                               n_jobs=-1, verbose=1, \n",
    "                               return_train_score=True,\n",
    "                               random_state=42)\n",
    "random_cv.fit(features_train, target_train);\n",
    "\n",
    "\n",
    "\n",
    "\n",
    "trees_grid = {\"n_estimators\": [50, 100, 150, 200, 250, 300]}\n",
    "\n",
    "model = random_cv.best_estimator_\n",
    "grid_search = GridSearchCV(estimator=model, param_grid=trees_grid, cv=4, \n",
    "                           scoring=\"neg_mean_absolute_error\", verbose=1,\n",
    "                           n_jobs=-1, return_train_score=True)\n",
    "grid_search.fit(features_train, target_train);\n",
    "\n",
    "\n",
    "\n",
    "\n",
    "results = pd.DataFrame(grid_search.cv_results_)\n",
    "\n",
    "plt.plot(results[\"param_n_estimators\"], -1 * results[\"mean_test_score\"], label = \"Testing Error\")\n",
    "plt.plot(results[\"param_n_estimators\"], -1 * results[\"mean_train_score\"], label = \"Training Error\")\n",
    "plt.xlabel(\"Number of Trees\"); plt.ylabel(\"Mean Abosolute Error\"); plt.legend();\n",
    "plt.title(\"Performance vs Number of Trees\");\n",
    "\n",
    "\n",
    "\n",
    "\n",
    "final_model = grid_search.best_estimator_\n",
    "final_pred = final_model.predict(features_test)\n",
    "final_mae = mae(target_test, final_pred)\n",
    "print(\"Final model performance on the test set: MAE = {:.04f}.\".format(final_mae))"
   ]
  },
  {
   "cell_type": "code",
   "execution_count": null,
   "id": "fbb7d422-5c61-4953-8430-0bf8c656bf59",
   "metadata": {},
   "outputs": [],
   "source": [
    "final_model = grid_search.best_estimator_\n",
    "final_pred = final_model.predict(features_test)\n",
    "final_mae = mae(target_test, final_pred)\n",
    "print(\"Final model performance on the test set: MAE = {:.04f}.\".format(final_mae))"
   ]
  },
  {
   "cell_type": "code",
   "execution_count": null,
   "id": "ad5a952e-8db0-486d-b211-5b4c693e277e",
   "metadata": {},
   "outputs": [],
   "source": [
    "from sklearn.metrics import mean_absolute_error as mae, r2_score\n",
    "\n",
    "final_model = grid_search.best_estimator_\n",
    "final_pred = final_model.predict(features_test)\n",
    "\n",
    "# Evaluation metrics\n",
    "final_mae = mae(target_test, final_pred)\n",
    "final_r2 = r2_score(target_test, final_pred)\n",
    "\n",
    "print(\"Final model performance on the test set: MAE = {:.04f}\".format(final_mae))\n",
    "print(\"Final model performance on the test set: R² = {:.04f}\".format(final_r2))\n"
   ]
  },
  {
   "cell_type": "code",
   "execution_count": null,
   "id": "a950e078-836d-491e-a174-9001027dd196",
   "metadata": {},
   "outputs": [],
   "source": []
  },
  {
   "cell_type": "code",
   "execution_count": null,
   "id": "f43307bd-4995-4df6-a195-02e78002f5d0",
   "metadata": {},
   "outputs": [],
   "source": []
  },
  {
   "cell_type": "code",
   "execution_count": null,
   "id": "8dd75ba0-5f78-428b-8424-650fa533c264",
   "metadata": {},
   "outputs": [],
   "source": []
  }
 ],
 "metadata": {
  "kernelspec": {
   "display_name": "Python 3 (ipykernel)",
   "language": "python",
   "name": "python3"
  },
  "language_info": {
   "codemirror_mode": {
    "name": "ipython",
    "version": 3
   },
   "file_extension": ".py",
   "mimetype": "text/x-python",
   "name": "python",
   "nbconvert_exporter": "python",
   "pygments_lexer": "ipython3",
   "version": "3.12.6"
  }
 },
 "nbformat": 4,
 "nbformat_minor": 5
}
