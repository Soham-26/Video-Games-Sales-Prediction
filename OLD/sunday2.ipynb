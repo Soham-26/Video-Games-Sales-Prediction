{
 "cells": [
  {
   "cell_type": "code",
   "execution_count": 1,
   "id": "83beb09e-ee8d-4ef9-a96a-843d22129e9c",
   "metadata": {},
   "outputs": [],
   "source": [
    "import pandas as pd"
   ]
  },
  {
   "cell_type": "code",
   "execution_count": 2,
   "id": "8ddf49f7-b5a5-40ae-903e-61466f529787",
   "metadata": {},
   "outputs": [],
   "source": [
    "df = pd.read_csv(\"Video_Games_Sales_as_at_22_Dec_2016.csv\")"
   ]
  },
  {
   "cell_type": "code",
   "execution_count": 3,
   "id": "9dab0648-dc19-4f19-bcf9-99046a69019d",
   "metadata": {},
   "outputs": [],
   "source": [
    "df = df.dropna()"
   ]
  },
  {
   "cell_type": "code",
   "execution_count": 4,
   "id": "db0bb051-d139-45f6-ad08-9745da49fd0f",
   "metadata": {},
   "outputs": [
    {
     "data": {
      "text/plain": [
       "(6825, 16)"
      ]
     },
     "execution_count": 4,
     "metadata": {},
     "output_type": "execute_result"
    }
   ],
   "source": [
    "df.shape"
   ]
  },
  {
   "cell_type": "code",
   "execution_count": 5,
   "id": "f9b05d7a-68b6-43ca-aef4-aef5981cf6c3",
   "metadata": {},
   "outputs": [
    {
     "data": {
      "text/plain": [
       "<bound method Series.min of 0        82.53\n",
       "2        35.52\n",
       "3        32.77\n",
       "6        29.80\n",
       "7        28.92\n",
       "         ...  \n",
       "16667     0.01\n",
       "16677     0.01\n",
       "16696     0.01\n",
       "16700     0.01\n",
       "16706     0.01\n",
       "Name: Global_Sales, Length: 6825, dtype: float64>"
      ]
     },
     "execution_count": 5,
     "metadata": {},
     "output_type": "execute_result"
    }
   ],
   "source": [
    "df[\"Global_Sales\"].min"
   ]
  },
  {
   "cell_type": "code",
   "execution_count": 13,
   "id": "210a5dd6-32a2-4fff-89d3-348cc92c2ecd",
   "metadata": {},
   "outputs": [
    {
     "name": "stdout",
     "output_type": "stream",
     "text": [
      "Sales_Category\n",
      "0-300K       3438\n",
      "300K-600K    1296\n",
      "1-5M         1170\n",
      "600K-1M       778\n",
      "5-10M         103\n",
      "10-20M         27\n",
      "20M+           12\n",
      "Name: count, dtype: int64\n"
     ]
    }
   ],
   "source": [
    "# New bins: breaking <1M into 100k intervals\n",
    "bins = [0, 0.3, 0.6, 1, 5, 10, 20, 40]\n",
    "labels = [\n",
    "    '0-300K', '300K-600K', '600K-1M',\n",
    "    '1-5M', '5-10M', '10-20M', '20M+'\n",
    "]\n",
    "\n",
    "\n",
    "# Creating the category column\n",
    "df['Sales_Category'] = pd.cut(df['Global_Sales'], bins=bins, labels=labels, right=False)\n",
    "\n",
    "# Check value counts\n",
    "print(df['Sales_Category'].value_counts())\n"
   ]
  },
  {
   "cell_type": "code",
   "execution_count": 14,
   "id": "4d361d86-155d-4eb4-8e45-369ff4b8d640",
   "metadata": {},
   "outputs": [
    {
     "name": "stdout",
     "output_type": "stream",
     "text": [
      "Sales_Category\n",
      "0-300K       3438\n",
      "300K-600K    1296\n",
      "1-5M         1170\n",
      "600K-1M       778\n",
      "5-10M         103\n",
      "10-20M         27\n",
      "20M+           12\n",
      "Name: count, dtype: int64\n"
     ]
    }
   ],
   "source": [
    "df['Sales_Category'] = pd.cut(df['Global_Sales'], bins=bins, labels=labels, right=False)\n",
    "print(df['Sales_Category'].value_counts())\n"
   ]
  },
  {
   "cell_type": "code",
   "execution_count": 15,
   "id": "c051bda1-c6da-43a8-be6e-0be83a6d6f1c",
   "metadata": {},
   "outputs": [],
   "source": [
    "df = df[df['Sales_Category'].notna()]"
   ]
  },
  {
   "cell_type": "code",
   "execution_count": 16,
   "id": "77584175-717b-42b9-9ff5-fea427c8069e",
   "metadata": {},
   "outputs": [
    {
     "data": {
      "text/plain": [
       "Index(['Name', 'Platform', 'Year_of_Release', 'Genre', 'Publisher', 'NA_Sales',\n",
       "       'EU_Sales', 'JP_Sales', 'Other_Sales', 'Global_Sales', 'Critic_Score',\n",
       "       'Critic_Count', 'User_Score', 'User_Count', 'Developer', 'Rating',\n",
       "       'Sales_Category'],\n",
       "      dtype='object')"
      ]
     },
     "execution_count": 16,
     "metadata": {},
     "output_type": "execute_result"
    }
   ],
   "source": [
    "df.columns"
   ]
  },
  {
   "cell_type": "code",
   "execution_count": 17,
   "id": "b0451586-974d-44db-a837-ba3990f91b30",
   "metadata": {},
   "outputs": [
    {
     "name": "stdout",
     "output_type": "stream",
     "text": [
      "X_train: (5459, 1588)\n",
      "X_test:  (1365, 1588)\n",
      "y_train: (5459,)\n",
      "y_test:  (1365,)\n"
     ]
    }
   ],
   "source": [
    "import pandas as pd\n",
    "from sklearn.model_selection import train_test_split\n",
    "\n",
    "# 1. Drop unwanted columns\n",
    "cols_to_drop = [\n",
    "    'Global_Sales',   # original target\n",
    "    'NA_Sales',       # regional leak\n",
    "    'EU_Sales',       # regional leak\n",
    "    'JP_Sales',       # regional leak\n",
    "    'Other_Sales',    # regional leak\n",
    "]\n",
    "df_prep = df.drop(columns=cols_to_drop)\n",
    "\n",
    "# 2. One-Hot Encode categorical columns\n",
    "categorical_cols = ['Platform', 'Genre', 'Rating', 'Publisher', 'Developer']\n",
    "df_encoded = pd.get_dummies(df_prep, columns=categorical_cols, drop_first=True)\n",
    "\n",
    "# 3. Define X and y for classification\n",
    "X = df_encoded.drop(columns=['Name','Sales_Category'], axis=1)\n",
    "y = df_encoded['Sales_Category']\n",
    "\n",
    "# 4. Train-test split (80/20)\n",
    "X_train, X_test, y_train, y_test = train_test_split(\n",
    "    X, y, test_size=0.2, random_state=42\n",
    ")\n",
    "\n",
    "# Check shapes\n",
    "print(\"X_train:\", X_train.shape)\n",
    "print(\"X_test: \", X_test.shape)\n",
    "print(\"y_train:\", y_train.shape)\n",
    "print(\"y_test: \", y_test.shape)\n"
   ]
  },
  {
   "cell_type": "code",
   "execution_count": 18,
   "id": "4479c8b2-524f-4301-871c-4b464691a023",
   "metadata": {},
   "outputs": [
    {
     "name": "stdout",
     "output_type": "stream",
     "text": [
      "Classification Report:\n",
      "               precision    recall  f1-score   support\n",
      "\n",
      "      0-300K       0.57      0.95      0.72       664\n",
      "        1-5M       0.42      0.44      0.43       236\n",
      "      10-20M       0.00      0.00      0.00         9\n",
      "        20M+       0.00      0.00      0.00         1\n",
      "   300K-600K       0.00      0.00      0.00       273\n",
      "       5-10M       0.30      0.14      0.19        21\n",
      "     600K-1M       0.00      0.00      0.00       161\n",
      "\n",
      "    accuracy                           0.54      1365\n",
      "   macro avg       0.18      0.22      0.19      1365\n",
      "weighted avg       0.36      0.54      0.43      1365\n",
      "\n",
      "Confusion Matrix:\n",
      " [[632  32   0   0   0   0   0]\n",
      " [126 105   1   0   0   4   0]\n",
      " [  2   4   0   0   0   3   0]\n",
      " [  1   0   0   0   0   0   0]\n",
      " [222  51   0   0   0   0   0]\n",
      " [  5  12   1   0   0   3   0]\n",
      " [113  48   0   0   0   0   0]]\n"
     ]
    },
    {
     "name": "stderr",
     "output_type": "stream",
     "text": [
      "C:\\Users\\soham\\AppData\\Roaming\\Python\\Python312\\site-packages\\sklearn\\linear_model\\_logistic.py:465: ConvergenceWarning: lbfgs failed to converge (status=1):\n",
      "STOP: TOTAL NO. of ITERATIONS REACHED LIMIT.\n",
      "\n",
      "Increase the number of iterations (max_iter) or scale the data as shown in:\n",
      "    https://scikit-learn.org/stable/modules/preprocessing.html\n",
      "Please also refer to the documentation for alternative solver options:\n",
      "    https://scikit-learn.org/stable/modules/linear_model.html#logistic-regression\n",
      "  n_iter_i = _check_optimize_result(\n",
      "C:\\Users\\soham\\AppData\\Roaming\\Python\\Python312\\site-packages\\sklearn\\metrics\\_classification.py:1565: UndefinedMetricWarning: Precision is ill-defined and being set to 0.0 in labels with no predicted samples. Use `zero_division` parameter to control this behavior.\n",
      "  _warn_prf(average, modifier, f\"{metric.capitalize()} is\", len(result))\n",
      "C:\\Users\\soham\\AppData\\Roaming\\Python\\Python312\\site-packages\\sklearn\\metrics\\_classification.py:1565: UndefinedMetricWarning: Precision is ill-defined and being set to 0.0 in labels with no predicted samples. Use `zero_division` parameter to control this behavior.\n",
      "  _warn_prf(average, modifier, f\"{metric.capitalize()} is\", len(result))\n",
      "C:\\Users\\soham\\AppData\\Roaming\\Python\\Python312\\site-packages\\sklearn\\metrics\\_classification.py:1565: UndefinedMetricWarning: Precision is ill-defined and being set to 0.0 in labels with no predicted samples. Use `zero_division` parameter to control this behavior.\n",
      "  _warn_prf(average, modifier, f\"{metric.capitalize()} is\", len(result))\n"
     ]
    }
   ],
   "source": [
    "from sklearn.linear_model import LogisticRegression\n",
    "from sklearn.metrics import classification_report, confusion_matrix\n",
    "\n",
    "# Initialize the model\n",
    "log_reg = LogisticRegression(max_iter=1000)  # max_iter increased to ensure convergence\n",
    "\n",
    "# Train the model\n",
    "log_reg.fit(X_train, y_train)\n",
    "\n",
    "# Predict on test set\n",
    "y_pred = log_reg.predict(X_test)\n",
    "\n",
    "# Evaluate the model\n",
    "print(\"Classification Report:\\n\", classification_report(y_test, y_pred))\n",
    "print(\"Confusion Matrix:\\n\", confusion_matrix(y_test, y_pred))\n"
   ]
  },
  {
   "cell_type": "code",
   "execution_count": 25,
   "id": "d59b4323-a072-48da-91e9-733c55fd10d1",
   "metadata": {},
   "outputs": [
    {
     "name": "stdout",
     "output_type": "stream",
     "text": [
      "\n",
      "=== Decision Tree ===\n",
      "Classification Report:\n",
      "              precision    recall  f1-score   support\n",
      "\n",
      "      0-300K       0.73      0.74      0.73       664\n",
      "        1-5M       0.53      0.54      0.54       236\n",
      "      10-20M       0.50      0.33      0.40         9\n",
      "        20M+       0.00      0.00      0.00         1\n",
      "   300K-600K       0.29      0.29      0.29       273\n",
      "       5-10M       0.37      0.33      0.35        21\n",
      "     600K-1M       0.27      0.25      0.26       161\n",
      "\n",
      "    accuracy                           0.55      1365\n",
      "   macro avg       0.38      0.36      0.37      1365\n",
      "weighted avg       0.54      0.55      0.55      1365\n",
      "\n",
      "Confusion Matrix:\n",
      "[[491  33   0   0 110   0  30]\n",
      " [ 31 128   2   1  34   8  32]\n",
      " [  0   3   3   0   1   1   1]\n",
      " [  0   0   0   0   0   0   1]\n",
      " [110  40   0   0  80   1  42]\n",
      " [  1   7   1   1   2   7   2]\n",
      " [ 42  31   0   0  46   2  40]]\n",
      " Accuracy: 0.5487179487179488\n",
      "\n",
      "=== Random Forest ===\n",
      "Classification Report:\n",
      "              precision    recall  f1-score   support\n",
      "\n",
      "      0-300K       0.68      0.94      0.79       664\n",
      "        1-5M       0.57      0.69      0.62       236\n",
      "      10-20M       1.00      0.33      0.50         9\n",
      "        20M+       0.00      0.00      0.00         1\n",
      "   300K-600K       0.42      0.17      0.24       273\n",
      "       5-10M       0.71      0.24      0.36        21\n",
      "     600K-1M       0.24      0.06      0.10       161\n",
      "\n",
      "    accuracy                           0.62      1365\n",
      "   macro avg       0.52      0.35      0.37      1365\n",
      "weighted avg       0.56      0.62      0.56      1365\n",
      "\n",
      "Confusion Matrix:\n",
      "[[624  15   0   0  23   0   2]\n",
      " [ 48 162   0   0  12   2  12]\n",
      " [  1   5   3   0   0   0   0]\n",
      " [  0   1   0   0   0   0   0]\n",
      " [177  32   0   0  46   0  18]\n",
      " [  0  15   0   0   1   5   0]\n",
      " [ 71  53   0   0  27   0  10]]\n",
      " Accuracy: 0.6227106227106227\n"
     ]
    },
    {
     "name": "stderr",
     "output_type": "stream",
     "text": [
      "C:\\Users\\soham\\AppData\\Roaming\\Python\\Python312\\site-packages\\sklearn\\metrics\\_classification.py:1565: UndefinedMetricWarning: Precision is ill-defined and being set to 0.0 in labels with no predicted samples. Use `zero_division` parameter to control this behavior.\n",
      "  _warn_prf(average, modifier, f\"{metric.capitalize()} is\", len(result))\n",
      "C:\\Users\\soham\\AppData\\Roaming\\Python\\Python312\\site-packages\\sklearn\\metrics\\_classification.py:1565: UndefinedMetricWarning: Precision is ill-defined and being set to 0.0 in labels with no predicted samples. Use `zero_division` parameter to control this behavior.\n",
      "  _warn_prf(average, modifier, f\"{metric.capitalize()} is\", len(result))\n",
      "C:\\Users\\soham\\AppData\\Roaming\\Python\\Python312\\site-packages\\sklearn\\metrics\\_classification.py:1565: UndefinedMetricWarning: Precision is ill-defined and being set to 0.0 in labels with no predicted samples. Use `zero_division` parameter to control this behavior.\n",
      "  _warn_prf(average, modifier, f\"{metric.capitalize()} is\", len(result))\n"
     ]
    }
   ],
   "source": [
    "from sklearn.tree import DecisionTreeClassifier\n",
    "from sklearn.ensemble import RandomForestClassifier\n",
    "from sklearn.metrics import classification_report, confusion_matrix\n",
    "\n",
    "models = {\n",
    "    \"Decision Tree\": DecisionTreeClassifier(random_state=42),\n",
    "    \"Random Forest\": RandomForestClassifier(n_estimators=100, random_state=42)\n",
    "}\n",
    "\n",
    "for name, model in models.items():\n",
    "    model.fit(X_train, y_train)\n",
    "    y_pred = model.predict(X_test)\n",
    "    \n",
    "    print(f\"\\n=== {name} ===\")\n",
    "    print(\"Classification Report:\")\n",
    "    print(classification_report(y_test, y_pred))\n",
    "    \n",
    "    print(\"Confusion Matrix:\")\n",
    "    print(confusion_matrix(y_test, y_pred))\n",
    "\n",
    "    acc = accuracy_score(y_test, y_pred)\n",
    "    print(\" Accuracy:\", acc)\n"
   ]
  },
  {
   "cell_type": "code",
   "execution_count": 24,
   "id": "36f329c5-1f2c-4386-9f40-dfd62adb52e6",
   "metadata": {},
   "outputs": [
    {
     "name": "stdout",
     "output_type": "stream",
     "text": [
      "=== K-Nearest Neighbors ===\n",
      "Classification Report:\n",
      "              precision    recall  f1-score   support\n",
      "\n",
      "      0-300K       0.60      0.75      0.67       664\n",
      "        1-5M       0.37      0.39      0.38       236\n",
      "      10-20M       0.00      0.00      0.00         9\n",
      "        20M+       0.00      0.00      0.00         1\n",
      "   300K-600K       0.26      0.17      0.21       273\n",
      "       5-10M       0.20      0.10      0.13        21\n",
      "     600K-1M       0.15      0.09      0.11       161\n",
      "\n",
      "    accuracy                           0.48      1365\n",
      "   macro avg       0.23      0.21      0.21      1365\n",
      "weighted avg       0.43      0.48      0.45      1365\n",
      "\n",
      "Confusion Matrix:\n",
      "[[500  66   1   0  68   2  27]\n",
      " [ 79  91   0   0  34   5  27]\n",
      " [  0   5   0   0   1   1   2]\n",
      " [  0   0   0   0   1   0   0]\n",
      " [164  35   1   0  47   0  26]\n",
      " [  7   7   0   0   1   2   4]\n",
      " [ 77  40   0   0  29   0  15]]\n"
     ]
    },
    {
     "name": "stderr",
     "output_type": "stream",
     "text": [
      "C:\\Users\\soham\\AppData\\Roaming\\Python\\Python312\\site-packages\\sklearn\\metrics\\_classification.py:1565: UndefinedMetricWarning: Precision is ill-defined and being set to 0.0 in labels with no predicted samples. Use `zero_division` parameter to control this behavior.\n",
      "  _warn_prf(average, modifier, f\"{metric.capitalize()} is\", len(result))\n",
      "C:\\Users\\soham\\AppData\\Roaming\\Python\\Python312\\site-packages\\sklearn\\metrics\\_classification.py:1565: UndefinedMetricWarning: Precision is ill-defined and being set to 0.0 in labels with no predicted samples. Use `zero_division` parameter to control this behavior.\n",
      "  _warn_prf(average, modifier, f\"{metric.capitalize()} is\", len(result))\n",
      "C:\\Users\\soham\\AppData\\Roaming\\Python\\Python312\\site-packages\\sklearn\\metrics\\_classification.py:1565: UndefinedMetricWarning: Precision is ill-defined and being set to 0.0 in labels with no predicted samples. Use `zero_division` parameter to control this behavior.\n",
      "  _warn_prf(average, modifier, f\"{metric.capitalize()} is\", len(result))\n"
     ]
    },
    {
     "name": "stdout",
     "output_type": "stream",
     "text": [
      "KNN Accuracy: 0.49743589743589745\n"
     ]
    }
   ],
   "source": [
    "from sklearn.neighbors import KNeighborsClassifier\n",
    "from sklearn.metrics import classification_report, confusion_matrix\n",
    "\n",
    "# 1. Create the model (you can try different k values like 3, 5, 7)\n",
    "knn = KNeighborsClassifier(n_neighbors=5, weights='distance')\n",
    "\n",
    "# 2. Train it\n",
    "knn.fit(X_train, y_train)\n",
    "\n",
    "# 3. Predict\n",
    "y_pred_knn = knn.predict(X_test)\n",
    "\n",
    "# 4. Evaluate\n",
    "print(\"=== K-Nearest Neighbors ===\")\n",
    "print(\"Classification Report:\")\n",
    "print(classification_report(y_test, y_pred_knn))\n",
    "\n",
    "print(\"Confusion Matrix:\")\n",
    "print(confusion_matrix(y_test, y_pred_knn))\n",
    "\n",
    "\n",
    "from sklearn.neighbors import KNeighborsClassifier\n",
    "from sklearn.metrics import accuracy_score\n",
    "\n",
    "knn = KNeighborsClassifier(n_neighbors=5)\n",
    "knn.fit(X_train, y_train)\n",
    "y_pred = knn.predict(X_test)\n",
    "\n",
    "acc = accuracy_score(y_test, y_pred)\n",
    "print(\"KNN Accuracy:\", acc)\n"
   ]
  },
  {
   "cell_type": "code",
   "execution_count": null,
   "id": "d4f7a619-b83b-4e1e-84e2-f67a275ee90b",
   "metadata": {},
   "outputs": [],
   "source": []
  },
  {
   "cell_type": "code",
   "execution_count": null,
   "id": "9d5eab7d-93b1-4721-ba86-9a3d38334c33",
   "metadata": {},
   "outputs": [],
   "source": []
  },
  {
   "cell_type": "code",
   "execution_count": null,
   "id": "94800747-9192-4f8e-b5bf-cdddcfa5a70d",
   "metadata": {},
   "outputs": [],
   "source": []
  }
 ],
 "metadata": {
  "kernelspec": {
   "display_name": "Python 3 (ipykernel)",
   "language": "python",
   "name": "python3"
  },
  "language_info": {
   "codemirror_mode": {
    "name": "ipython",
    "version": 3
   },
   "file_extension": ".py",
   "mimetype": "text/x-python",
   "name": "python",
   "nbconvert_exporter": "python",
   "pygments_lexer": "ipython3",
   "version": "3.12.6"
  }
 },
 "nbformat": 4,
 "nbformat_minor": 5
}
