{
 "cells": [
  {
   "cell_type": "code",
   "execution_count": 27,
   "id": "fba9e0a3-d1ca-49b7-bcfc-4e923d5a4ec0",
   "metadata": {},
   "outputs": [],
   "source": [
    "import pandas as pd\n",
    "import numpy as np"
   ]
  },
  {
   "cell_type": "code",
   "execution_count": 2,
   "id": "f590a10e-4e1d-43e1-8517-cbe899ba69b3",
   "metadata": {},
   "outputs": [],
   "source": [
    "data = pd.read_csv(\"Video_Games_Sales_as_at_22_Dec_2016(222).csv\")"
   ]
  },
  {
   "cell_type": "code",
   "execution_count": 4,
   "id": "0bba6b4d-fafe-4f58-8ff2-733f84ac609c",
   "metadata": {},
   "outputs": [
    {
     "data": {
      "text/plain": [
       "(16719, 16)"
      ]
     },
     "execution_count": 4,
     "metadata": {},
     "output_type": "execute_result"
    }
   ],
   "source": [
    "data.shape"
   ]
  },
  {
   "cell_type": "code",
   "execution_count": 6,
   "id": "dc59ffe1-5019-4493-b94b-51a9cd624859",
   "metadata": {},
   "outputs": [
    {
     "name": "stdout",
     "output_type": "stream",
     "text": [
      "<class 'pandas.core.frame.DataFrame'>\n",
      "RangeIndex: 16719 entries, 0 to 16718\n",
      "Data columns (total 16 columns):\n",
      " #   Column           Non-Null Count  Dtype  \n",
      "---  ------           --------------  -----  \n",
      " 0   Name             16717 non-null  object \n",
      " 1   Platform         16719 non-null  object \n",
      " 2   Year_of_Release  16450 non-null  float64\n",
      " 3   Genre            16717 non-null  object \n",
      " 4   Publisher        16665 non-null  object \n",
      " 5   NA_Sales         16719 non-null  float64\n",
      " 6   EU_Sales         16719 non-null  float64\n",
      " 7   JP_Sales         16719 non-null  float64\n",
      " 8   Other_Sales      16719 non-null  float64\n",
      " 9   Global_Sales     16719 non-null  float64\n",
      " 10  Critic_Score     8137 non-null   float64\n",
      " 11  Critic_Count     8137 non-null   float64\n",
      " 12  User_Score       10015 non-null  object \n",
      " 13  User_Count       7590 non-null   float64\n",
      " 14  Developer        10096 non-null  object \n",
      " 15  Rating           9950 non-null   object \n",
      "dtypes: float64(9), object(7)\n",
      "memory usage: 2.0+ MB\n"
     ]
    }
   ],
   "source": [
    "data.info()"
   ]
  },
  {
   "cell_type": "code",
   "execution_count": 7,
   "id": "ea86a417-869c-4756-81f0-a15bd6285e1f",
   "metadata": {},
   "outputs": [],
   "source": [
    "data = data.rename(columns={\"Year_of_Release\": \"Year\", \n",
    "                            \"NA_Sales\": \"NA\",\n",
    "                            \"EU_Sales\": \"EU\",\n",
    "                            \"JP_Sales\": \"JP\",\n",
    "                            \"Other_Sales\": \"Other\",\n",
    "                            \"Global_Sales\": \"Global\"})"
   ]
  },
  {
   "cell_type": "code",
   "execution_count": 8,
   "id": "d12ee092-2df4-49a8-882c-f23f0e3272ff",
   "metadata": {},
   "outputs": [],
   "source": [
    "data = data[data[\"Year\"].notnull()]\n",
    "data = data[data[\"Genre\"].notnull()]"
   ]
  },
  {
   "cell_type": "code",
   "execution_count": 9,
   "id": "c6f328a5-970f-4a3a-866c-f3a0063bac69",
   "metadata": {},
   "outputs": [
    {
     "data": {
      "text/plain": [
       "(16448, 16)"
      ]
     },
     "execution_count": 9,
     "metadata": {},
     "output_type": "execute_result"
    }
   ],
   "source": [
    "data.shape"
   ]
  },
  {
   "cell_type": "code",
   "execution_count": 10,
   "id": "3fd616e8-c773-4522-be94-6a64282c6c6f",
   "metadata": {},
   "outputs": [],
   "source": [
    "data[\"Year\"] = data[\"Year\"].apply(int)\n",
    "data[\"Age\"] = 2018 - data[\"Year\"]"
   ]
  },
  {
   "cell_type": "code",
   "execution_count": 11,
   "id": "6cec3b0a-75dd-4145-b223-0818dfd85d90",
   "metadata": {},
   "outputs": [
    {
     "name": "stdout",
     "output_type": "stream",
     "text": [
      "<class 'pandas.core.frame.DataFrame'>\n",
      "Index: 16448 entries, 0 to 16718\n",
      "Data columns (total 17 columns):\n",
      " #   Column        Non-Null Count  Dtype  \n",
      "---  ------        --------------  -----  \n",
      " 0   Name          16448 non-null  object \n",
      " 1   Platform      16448 non-null  object \n",
      " 2   Year          16448 non-null  int64  \n",
      " 3   Genre         16448 non-null  object \n",
      " 4   Publisher     16416 non-null  object \n",
      " 5   NA            16448 non-null  float64\n",
      " 6   EU            16448 non-null  float64\n",
      " 7   JP            16448 non-null  float64\n",
      " 8   Other         16448 non-null  float64\n",
      " 9   Global        16448 non-null  float64\n",
      " 10  Critic_Score  7983 non-null   float64\n",
      " 11  Critic_Count  7983 non-null   float64\n",
      " 12  User_Score    9840 non-null   object \n",
      " 13  User_Count    7463 non-null   float64\n",
      " 14  Developer     9907 non-null   object \n",
      " 15  Rating        9769 non-null   object \n",
      " 16  Age           16448 non-null  int64  \n",
      "dtypes: float64(8), int64(2), object(7)\n",
      "memory usage: 2.3+ MB\n"
     ]
    }
   ],
   "source": [
    "data.info()"
   ]
  },
  {
   "cell_type": "code",
   "execution_count": 12,
   "id": "4b8f556a-9af3-479d-b517-c53a73cfbdee",
   "metadata": {},
   "outputs": [],
   "source": [
    "def rm_outliers(df, list_of_keys):\n",
    "    df_out = df\n",
    "    for key in list_of_keys:\n",
    "        # Calculate first and third quartile\n",
    "        first_quartile = df_out[key].describe()[\"25%\"]\n",
    "        third_quartile = df_out[key].describe()[\"75%\"]\n",
    "\n",
    "        # Interquartile range\n",
    "        iqr = third_quartile - first_quartile\n",
    "\n",
    "        # Remove outliers\n",
    "        removed = df_out[(df_out[key] <= (first_quartile - 3 * iqr)) |\n",
    "                    (df_out[key] >= (third_quartile + 3 * iqr))] \n",
    "        df_out = df_out[(df_out[key] > (first_quartile - 3 * iqr)) &\n",
    "                    (df_out[key] < (third_quartile + 3 * iqr))]\n",
    "    return df_out, removed"
   ]
  },
  {
   "cell_type": "code",
   "execution_count": 13,
   "id": "21ae601f-3e26-4c25-873b-e3fc290d5d79",
   "metadata": {},
   "outputs": [
    {
     "data": {
      "text/html": [
       "<div>\n",
       "<style scoped>\n",
       "    .dataframe tbody tr th:only-of-type {\n",
       "        vertical-align: middle;\n",
       "    }\n",
       "\n",
       "    .dataframe tbody tr th {\n",
       "        vertical-align: top;\n",
       "    }\n",
       "\n",
       "    .dataframe thead th {\n",
       "        text-align: right;\n",
       "    }\n",
       "</style>\n",
       "<table border=\"1\" class=\"dataframe\">\n",
       "  <thead>\n",
       "    <tr style=\"text-align: right;\">\n",
       "      <th></th>\n",
       "      <th>Year</th>\n",
       "      <th>NA</th>\n",
       "      <th>EU</th>\n",
       "      <th>JP</th>\n",
       "      <th>Other</th>\n",
       "      <th>Global</th>\n",
       "      <th>Critic_Score</th>\n",
       "      <th>Critic_Count</th>\n",
       "      <th>User_Count</th>\n",
       "      <th>Age</th>\n",
       "    </tr>\n",
       "  </thead>\n",
       "  <tbody>\n",
       "    <tr>\n",
       "      <th>count</th>\n",
       "      <td>15401.000000</td>\n",
       "      <td>15401.000000</td>\n",
       "      <td>15401.000000</td>\n",
       "      <td>15401.000000</td>\n",
       "      <td>15401.000000</td>\n",
       "      <td>15401.000000</td>\n",
       "      <td>7286.000000</td>\n",
       "      <td>7286.000000</td>\n",
       "      <td>6747.000000</td>\n",
       "      <td>15401.000000</td>\n",
       "    </tr>\n",
       "    <tr>\n",
       "      <th>mean</th>\n",
       "      <td>2006.592624</td>\n",
       "      <td>0.144688</td>\n",
       "      <td>0.072628</td>\n",
       "      <td>0.047301</td>\n",
       "      <td>0.024357</td>\n",
       "      <td>0.289258</td>\n",
       "      <td>67.779028</td>\n",
       "      <td>24.518117</td>\n",
       "      <td>111.325033</td>\n",
       "      <td>11.407376</td>\n",
       "    </tr>\n",
       "    <tr>\n",
       "      <th>std</th>\n",
       "      <td>5.758078</td>\n",
       "      <td>0.210709</td>\n",
       "      <td>0.131408</td>\n",
       "      <td>0.130786</td>\n",
       "      <td>0.050152</td>\n",
       "      <td>0.346918</td>\n",
       "      <td>13.612120</td>\n",
       "      <td>17.194878</td>\n",
       "      <td>406.635191</td>\n",
       "      <td>5.758078</td>\n",
       "    </tr>\n",
       "    <tr>\n",
       "      <th>min</th>\n",
       "      <td>1980.000000</td>\n",
       "      <td>0.000000</td>\n",
       "      <td>0.000000</td>\n",
       "      <td>0.000000</td>\n",
       "      <td>0.000000</td>\n",
       "      <td>0.010000</td>\n",
       "      <td>13.000000</td>\n",
       "      <td>3.000000</td>\n",
       "      <td>4.000000</td>\n",
       "      <td>-2.000000</td>\n",
       "    </tr>\n",
       "    <tr>\n",
       "      <th>25%</th>\n",
       "      <td>2003.000000</td>\n",
       "      <td>0.000000</td>\n",
       "      <td>0.000000</td>\n",
       "      <td>0.000000</td>\n",
       "      <td>0.000000</td>\n",
       "      <td>0.060000</td>\n",
       "      <td>59.000000</td>\n",
       "      <td>11.000000</td>\n",
       "      <td>9.000000</td>\n",
       "      <td>8.000000</td>\n",
       "    </tr>\n",
       "    <tr>\n",
       "      <th>50%</th>\n",
       "      <td>2007.000000</td>\n",
       "      <td>0.070000</td>\n",
       "      <td>0.020000</td>\n",
       "      <td>0.000000</td>\n",
       "      <td>0.010000</td>\n",
       "      <td>0.150000</td>\n",
       "      <td>70.000000</td>\n",
       "      <td>20.000000</td>\n",
       "      <td>21.000000</td>\n",
       "      <td>11.000000</td>\n",
       "    </tr>\n",
       "    <tr>\n",
       "      <th>75%</th>\n",
       "      <td>2010.000000</td>\n",
       "      <td>0.190000</td>\n",
       "      <td>0.080000</td>\n",
       "      <td>0.030000</td>\n",
       "      <td>0.030000</td>\n",
       "      <td>0.380000</td>\n",
       "      <td>78.000000</td>\n",
       "      <td>34.000000</td>\n",
       "      <td>61.000000</td>\n",
       "      <td>15.000000</td>\n",
       "    </tr>\n",
       "    <tr>\n",
       "      <th>max</th>\n",
       "      <td>2020.000000</td>\n",
       "      <td>1.670000</td>\n",
       "      <td>1.580000</td>\n",
       "      <td>1.650000</td>\n",
       "      <td>1.180000</td>\n",
       "      <td>1.690000</td>\n",
       "      <td>98.000000</td>\n",
       "      <td>106.000000</td>\n",
       "      <td>10665.000000</td>\n",
       "      <td>38.000000</td>\n",
       "    </tr>\n",
       "  </tbody>\n",
       "</table>\n",
       "</div>"
      ],
      "text/plain": [
       "               Year            NA            EU            JP         Other  \\\n",
       "count  15401.000000  15401.000000  15401.000000  15401.000000  15401.000000   \n",
       "mean    2006.592624      0.144688      0.072628      0.047301      0.024357   \n",
       "std        5.758078      0.210709      0.131408      0.130786      0.050152   \n",
       "min     1980.000000      0.000000      0.000000      0.000000      0.000000   \n",
       "25%     2003.000000      0.000000      0.000000      0.000000      0.000000   \n",
       "50%     2007.000000      0.070000      0.020000      0.000000      0.010000   \n",
       "75%     2010.000000      0.190000      0.080000      0.030000      0.030000   \n",
       "max     2020.000000      1.670000      1.580000      1.650000      1.180000   \n",
       "\n",
       "             Global  Critic_Score  Critic_Count    User_Count           Age  \n",
       "count  15401.000000   7286.000000   7286.000000   6747.000000  15401.000000  \n",
       "mean       0.289258     67.779028     24.518117    111.325033     11.407376  \n",
       "std        0.346918     13.612120     17.194878    406.635191      5.758078  \n",
       "min        0.010000     13.000000      3.000000      4.000000     -2.000000  \n",
       "25%        0.060000     59.000000     11.000000      9.000000      8.000000  \n",
       "50%        0.150000     70.000000     20.000000     21.000000     11.000000  \n",
       "75%        0.380000     78.000000     34.000000     61.000000     15.000000  \n",
       "max        1.690000     98.000000    106.000000  10665.000000     38.000000  "
      ]
     },
     "execution_count": 13,
     "metadata": {},
     "output_type": "execute_result"
    }
   ],
   "source": [
    "data, rmvd_global = rm_outliers(data, [\"Global\"])\n",
    "data.describe()"
   ]
  },
  {
   "cell_type": "code",
   "execution_count": 14,
   "id": "c381efcd-e8e1-437c-9a52-f10cbf59a0c1",
   "metadata": {},
   "outputs": [
    {
     "data": {
      "text/html": [
       "<div>\n",
       "<style scoped>\n",
       "    .dataframe tbody tr th:only-of-type {\n",
       "        vertical-align: middle;\n",
       "    }\n",
       "\n",
       "    .dataframe tbody tr th {\n",
       "        vertical-align: top;\n",
       "    }\n",
       "\n",
       "    .dataframe thead th {\n",
       "        text-align: right;\n",
       "    }\n",
       "</style>\n",
       "<table border=\"1\" class=\"dataframe\">\n",
       "  <thead>\n",
       "    <tr style=\"text-align: right;\">\n",
       "      <th></th>\n",
       "      <th>Year</th>\n",
       "      <th>NA</th>\n",
       "      <th>EU</th>\n",
       "      <th>JP</th>\n",
       "      <th>Other</th>\n",
       "      <th>Global</th>\n",
       "      <th>Critic_Score</th>\n",
       "      <th>Critic_Count</th>\n",
       "      <th>User_Count</th>\n",
       "      <th>Age</th>\n",
       "    </tr>\n",
       "  </thead>\n",
       "  <tbody>\n",
       "    <tr>\n",
       "      <th>count</th>\n",
       "      <td>7185.000000</td>\n",
       "      <td>7185.000000</td>\n",
       "      <td>7185.000000</td>\n",
       "      <td>7185.000000</td>\n",
       "      <td>7185.000000</td>\n",
       "      <td>7185.000000</td>\n",
       "      <td>7185.000000</td>\n",
       "      <td>7185.000000</td>\n",
       "      <td>6137.000000</td>\n",
       "      <td>7185.000000</td>\n",
       "    </tr>\n",
       "    <tr>\n",
       "      <th>mean</th>\n",
       "      <td>2007.121364</td>\n",
       "      <td>0.195992</td>\n",
       "      <td>0.102938</td>\n",
       "      <td>0.025637</td>\n",
       "      <td>0.035795</td>\n",
       "      <td>0.360692</td>\n",
       "      <td>67.776061</td>\n",
       "      <td>24.617676</td>\n",
       "      <td>118.897181</td>\n",
       "      <td>10.878636</td>\n",
       "    </tr>\n",
       "    <tr>\n",
       "      <th>std</th>\n",
       "      <td>4.115742</td>\n",
       "      <td>0.223204</td>\n",
       "      <td>0.149407</td>\n",
       "      <td>0.088654</td>\n",
       "      <td>0.058430</td>\n",
       "      <td>0.378126</td>\n",
       "      <td>13.614107</td>\n",
       "      <td>17.231793</td>\n",
       "      <td>424.446207</td>\n",
       "      <td>4.115742</td>\n",
       "    </tr>\n",
       "    <tr>\n",
       "      <th>min</th>\n",
       "      <td>1985.000000</td>\n",
       "      <td>0.000000</td>\n",
       "      <td>0.000000</td>\n",
       "      <td>0.000000</td>\n",
       "      <td>0.000000</td>\n",
       "      <td>0.010000</td>\n",
       "      <td>13.000000</td>\n",
       "      <td>3.000000</td>\n",
       "      <td>4.000000</td>\n",
       "      <td>2.000000</td>\n",
       "    </tr>\n",
       "    <tr>\n",
       "      <th>25%</th>\n",
       "      <td>2004.000000</td>\n",
       "      <td>0.050000</td>\n",
       "      <td>0.010000</td>\n",
       "      <td>0.000000</td>\n",
       "      <td>0.010000</td>\n",
       "      <td>0.090000</td>\n",
       "      <td>59.000000</td>\n",
       "      <td>11.000000</td>\n",
       "      <td>10.000000</td>\n",
       "      <td>8.000000</td>\n",
       "    </tr>\n",
       "    <tr>\n",
       "      <th>50%</th>\n",
       "      <td>2007.000000</td>\n",
       "      <td>0.110000</td>\n",
       "      <td>0.040000</td>\n",
       "      <td>0.000000</td>\n",
       "      <td>0.020000</td>\n",
       "      <td>0.210000</td>\n",
       "      <td>70.000000</td>\n",
       "      <td>20.000000</td>\n",
       "      <td>23.000000</td>\n",
       "      <td>11.000000</td>\n",
       "    </tr>\n",
       "    <tr>\n",
       "      <th>75%</th>\n",
       "      <td>2010.000000</td>\n",
       "      <td>0.260000</td>\n",
       "      <td>0.130000</td>\n",
       "      <td>0.000000</td>\n",
       "      <td>0.040000</td>\n",
       "      <td>0.510000</td>\n",
       "      <td>78.000000</td>\n",
       "      <td>34.000000</td>\n",
       "      <td>66.000000</td>\n",
       "      <td>14.000000</td>\n",
       "    </tr>\n",
       "    <tr>\n",
       "      <th>max</th>\n",
       "      <td>2016.000000</td>\n",
       "      <td>1.670000</td>\n",
       "      <td>1.580000</td>\n",
       "      <td>1.390000</td>\n",
       "      <td>1.180000</td>\n",
       "      <td>1.690000</td>\n",
       "      <td>98.000000</td>\n",
       "      <td>106.000000</td>\n",
       "      <td>10665.000000</td>\n",
       "      <td>33.000000</td>\n",
       "    </tr>\n",
       "  </tbody>\n",
       "</table>\n",
       "</div>"
      ],
      "text/plain": [
       "              Year           NA           EU           JP        Other  \\\n",
       "count  7185.000000  7185.000000  7185.000000  7185.000000  7185.000000   \n",
       "mean   2007.121364     0.195992     0.102938     0.025637     0.035795   \n",
       "std       4.115742     0.223204     0.149407     0.088654     0.058430   \n",
       "min    1985.000000     0.000000     0.000000     0.000000     0.000000   \n",
       "25%    2004.000000     0.050000     0.010000     0.000000     0.010000   \n",
       "50%    2007.000000     0.110000     0.040000     0.000000     0.020000   \n",
       "75%    2010.000000     0.260000     0.130000     0.000000     0.040000   \n",
       "max    2016.000000     1.670000     1.580000     1.390000     1.180000   \n",
       "\n",
       "            Global  Critic_Score  Critic_Count    User_Count          Age  \n",
       "count  7185.000000   7185.000000   7185.000000   6137.000000  7185.000000  \n",
       "mean      0.360692     67.776061     24.617676    118.897181    10.878636  \n",
       "std       0.378126     13.614107     17.231793    424.446207     4.115742  \n",
       "min       0.010000     13.000000      3.000000      4.000000     2.000000  \n",
       "25%       0.090000     59.000000     11.000000     10.000000     8.000000  \n",
       "50%       0.210000     70.000000     20.000000     23.000000    11.000000  \n",
       "75%       0.510000     78.000000     34.000000     66.000000    14.000000  \n",
       "max       1.690000     98.000000    106.000000  10665.000000    33.000000  "
      ]
     },
     "execution_count": 14,
     "metadata": {},
     "output_type": "execute_result"
    }
   ],
   "source": [
    "scored = data.dropna(subset=[\"User_Score\", \"Critic_Score\", \"Rating\"])\n",
    "scored.describe()"
   ]
  },
  {
   "cell_type": "code",
   "execution_count": 15,
   "id": "f19de739-ca45-40d9-b3f2-bcbfec7361eb",
   "metadata": {},
   "outputs": [
    {
     "data": {
      "text/html": [
       "<div>\n",
       "<style scoped>\n",
       "    .dataframe tbody tr th:only-of-type {\n",
       "        vertical-align: middle;\n",
       "    }\n",
       "\n",
       "    .dataframe tbody tr th {\n",
       "        vertical-align: top;\n",
       "    }\n",
       "\n",
       "    .dataframe thead th {\n",
       "        text-align: right;\n",
       "    }\n",
       "</style>\n",
       "<table border=\"1\" class=\"dataframe\">\n",
       "  <thead>\n",
       "    <tr style=\"text-align: right;\">\n",
       "      <th></th>\n",
       "      <th>Year</th>\n",
       "      <th>NA</th>\n",
       "      <th>EU</th>\n",
       "      <th>JP</th>\n",
       "      <th>Other</th>\n",
       "      <th>Global</th>\n",
       "      <th>Critic_Score</th>\n",
       "      <th>Critic_Count</th>\n",
       "      <th>User_Count</th>\n",
       "      <th>Age</th>\n",
       "    </tr>\n",
       "  </thead>\n",
       "  <tbody>\n",
       "    <tr>\n",
       "      <th>count</th>\n",
       "      <td>5534.000000</td>\n",
       "      <td>5534.000000</td>\n",
       "      <td>5534.000000</td>\n",
       "      <td>5534.000000</td>\n",
       "      <td>5534.000000</td>\n",
       "      <td>5534.000000</td>\n",
       "      <td>5534.000000</td>\n",
       "      <td>5534.000000</td>\n",
       "      <td>5534.000000</td>\n",
       "      <td>5534.000000</td>\n",
       "    </tr>\n",
       "    <tr>\n",
       "      <th>mean</th>\n",
       "      <td>2007.055837</td>\n",
       "      <td>0.205403</td>\n",
       "      <td>0.098572</td>\n",
       "      <td>0.028995</td>\n",
       "      <td>0.036368</td>\n",
       "      <td>0.369597</td>\n",
       "      <td>67.815866</td>\n",
       "      <td>24.958439</td>\n",
       "      <td>37.459523</td>\n",
       "      <td>10.944163</td>\n",
       "    </tr>\n",
       "    <tr>\n",
       "      <th>std</th>\n",
       "      <td>4.010373</td>\n",
       "      <td>0.225580</td>\n",
       "      <td>0.138941</td>\n",
       "      <td>0.095492</td>\n",
       "      <td>0.056428</td>\n",
       "      <td>0.367824</td>\n",
       "      <td>13.408831</td>\n",
       "      <td>15.689528</td>\n",
       "      <td>44.572477</td>\n",
       "      <td>4.010373</td>\n",
       "    </tr>\n",
       "    <tr>\n",
       "      <th>min</th>\n",
       "      <td>1985.000000</td>\n",
       "      <td>0.000000</td>\n",
       "      <td>0.000000</td>\n",
       "      <td>0.000000</td>\n",
       "      <td>0.000000</td>\n",
       "      <td>0.010000</td>\n",
       "      <td>13.000000</td>\n",
       "      <td>3.000000</td>\n",
       "      <td>4.000000</td>\n",
       "      <td>2.000000</td>\n",
       "    </tr>\n",
       "    <tr>\n",
       "      <th>25%</th>\n",
       "      <td>2004.000000</td>\n",
       "      <td>0.060000</td>\n",
       "      <td>0.010000</td>\n",
       "      <td>0.000000</td>\n",
       "      <td>0.010000</td>\n",
       "      <td>0.100000</td>\n",
       "      <td>60.000000</td>\n",
       "      <td>13.000000</td>\n",
       "      <td>9.000000</td>\n",
       "      <td>8.000000</td>\n",
       "    </tr>\n",
       "    <tr>\n",
       "      <th>50%</th>\n",
       "      <td>2007.000000</td>\n",
       "      <td>0.130000</td>\n",
       "      <td>0.040000</td>\n",
       "      <td>0.000000</td>\n",
       "      <td>0.020000</td>\n",
       "      <td>0.230000</td>\n",
       "      <td>70.000000</td>\n",
       "      <td>22.000000</td>\n",
       "      <td>20.000000</td>\n",
       "      <td>11.000000</td>\n",
       "    </tr>\n",
       "    <tr>\n",
       "      <th>75%</th>\n",
       "      <td>2010.000000</td>\n",
       "      <td>0.280000</td>\n",
       "      <td>0.130000</td>\n",
       "      <td>0.000000</td>\n",
       "      <td>0.047500</td>\n",
       "      <td>0.520000</td>\n",
       "      <td>78.000000</td>\n",
       "      <td>34.000000</td>\n",
       "      <td>45.000000</td>\n",
       "      <td>14.000000</td>\n",
       "    </tr>\n",
       "    <tr>\n",
       "      <th>max</th>\n",
       "      <td>2016.000000</td>\n",
       "      <td>1.670000</td>\n",
       "      <td>1.160000</td>\n",
       "      <td>1.390000</td>\n",
       "      <td>1.130000</td>\n",
       "      <td>1.690000</td>\n",
       "      <td>98.000000</td>\n",
       "      <td>91.000000</td>\n",
       "      <td>233.000000</td>\n",
       "      <td>33.000000</td>\n",
       "    </tr>\n",
       "  </tbody>\n",
       "</table>\n",
       "</div>"
      ],
      "text/plain": [
       "              Year           NA           EU           JP        Other  \\\n",
       "count  5534.000000  5534.000000  5534.000000  5534.000000  5534.000000   \n",
       "mean   2007.055837     0.205403     0.098572     0.028995     0.036368   \n",
       "std       4.010373     0.225580     0.138941     0.095492     0.056428   \n",
       "min    1985.000000     0.000000     0.000000     0.000000     0.000000   \n",
       "25%    2004.000000     0.060000     0.010000     0.000000     0.010000   \n",
       "50%    2007.000000     0.130000     0.040000     0.000000     0.020000   \n",
       "75%    2010.000000     0.280000     0.130000     0.000000     0.047500   \n",
       "max    2016.000000     1.670000     1.160000     1.390000     1.130000   \n",
       "\n",
       "            Global  Critic_Score  Critic_Count   User_Count          Age  \n",
       "count  5534.000000   5534.000000   5534.000000  5534.000000  5534.000000  \n",
       "mean      0.369597     67.815866     24.958439    37.459523    10.944163  \n",
       "std       0.367824     13.408831     15.689528    44.572477     4.010373  \n",
       "min       0.010000     13.000000      3.000000     4.000000     2.000000  \n",
       "25%       0.100000     60.000000     13.000000     9.000000     8.000000  \n",
       "50%       0.230000     70.000000     22.000000    20.000000    11.000000  \n",
       "75%       0.520000     78.000000     34.000000    45.000000    14.000000  \n",
       "max       1.690000     98.000000     91.000000   233.000000    33.000000  "
      ]
     },
     "execution_count": 15,
     "metadata": {},
     "output_type": "execute_result"
    }
   ],
   "source": [
    "scored, rmvd_user_count = rm_outliers(scored, [\"User_Count\"])\n",
    "scored.describe()"
   ]
  },
  {
   "cell_type": "code",
   "execution_count": 16,
   "id": "d7bc4305-7c2a-4b41-8388-615c8d7a94ea",
   "metadata": {},
   "outputs": [
    {
     "data": {
      "text/plain": [
       "(15401, 17)"
      ]
     },
     "execution_count": 16,
     "metadata": {},
     "output_type": "execute_result"
    }
   ],
   "source": [
    "data.shape"
   ]
  },
  {
   "cell_type": "code",
   "execution_count": 21,
   "id": "2fa21f17-0f5e-47fb-8cb2-3f985f731402",
   "metadata": {},
   "outputs": [
    {
     "data": {
      "text/plain": [
       "(array(['PS2', 'GBA', 'X360', 'PS3', 'PC', 'Wii', 'PSP', 'PS', 'XB', 'GC',\n",
       "        'DS', 'XOne', '3DS', 'DC', 'PS4', 'WiiU', 'PSV'], dtype=object),\n",
       " array(['Shooter', 'Action', 'Role-Playing', 'Racing', 'Simulation',\n",
       "        'Sports', 'Fighting', 'Platform', 'Misc', 'Strategy', 'Puzzle',\n",
       "        'Adventure'], dtype=object),\n",
       " array(['M', 'E', 'T', 'E10+', 'RP'], dtype=object))"
      ]
     },
     "execution_count": 21,
     "metadata": {},
     "output_type": "execute_result"
    }
   ],
   "source": [
    "scored[\"Platform\"].unique(),scored[\"Genre\"].unique(),scored[\"Rating\"].unique()"
   ]
  },
  {
   "cell_type": "code",
   "execution_count": 22,
   "id": "98518a89-c2d5-46bc-ad9f-b97379213caf",
   "metadata": {},
   "outputs": [],
   "source": [
    "import category_encoders as ce\n",
    "# Select the numeric columns\n",
    "numeric_subset = scored.select_dtypes(\"number\").drop(columns=[\"NA\", \"EU\", \"JP\", \"Other\", \"Year\"])\n",
    "\n",
    "# Select the categorical column\n",
    "categorical_subset = scored[[\"Platform\", \"Genre\", \"Rating\"]]\n",
    "\n",
    "# One hot encode\n",
    "encoder = ce.one_hot.OneHotEncoder()\n",
    "categorical_subset = encoder.fit_transform(categorical_subset)\n",
    "\n",
    "# Join the two dataframes using concat\n",
    "# Make sure to use axis = 1 to perform a column bind\n",
    "features = pd.concat([numeric_subset, categorical_subset], axis = 1)\n",
    "\n",
    "# Find correlations with the score \n",
    "correlations = features.corr()[\"Global\"].dropna().sort_values()"
   ]
  },
  {
   "cell_type": "code",
   "execution_count": 23,
   "id": "249ff861-d9c6-465a-8a65-5fd7c1c04461",
   "metadata": {},
   "outputs": [
    {
     "data": {
      "text/plain": [
       "Platform_4      0.103652\n",
       "User_Count      0.252651\n",
       "Critic_Score    0.281545\n",
       "Critic_Count    0.292327\n",
       "Global          1.000000\n",
       "Name: Global, dtype: float64"
      ]
     },
     "execution_count": 23,
     "metadata": {},
     "output_type": "execute_result"
    }
   ],
   "source": [
    "correlations.tail(5)"
   ]
  },
  {
   "cell_type": "code",
   "execution_count": 24,
   "id": "d6dc55e2-9b7d-41a7-8e43-db95bec68c37",
   "metadata": {},
   "outputs": [
    {
     "name": "stdout",
     "output_type": "stream",
     "text": [
      "(4427, 38)\n",
      "(1107, 38)\n",
      "(4427,)\n",
      "(1107,)\n"
     ]
    }
   ],
   "source": [
    "from sklearn.model_selection import train_test_split\n",
    "basic_target = pd.Series(features[\"Global\"])\n",
    "basic_features = features.drop(columns=\"Global\")\n",
    "features_train, features_test, target_train, target_test = train_test_split(basic_features, basic_target, \n",
    "                                                                            test_size=0.2,\n",
    "                                                                            random_state=42)\n",
    "print(features_train.shape)\n",
    "print(features_test.shape)\n",
    "print(target_train.shape)\n",
    "print(target_test.shape)"
   ]
  },
  {
   "cell_type": "code",
   "execution_count": 31,
   "id": "1536e78e-67f5-4a7b-90db-f2ba8c4925ff",
   "metadata": {},
   "outputs": [],
   "source": [
    "def mae(y_true, y_pred):\n",
    "    return np.average(abs(y_true - y_pred))"
   ]
  },
  {
   "cell_type": "code",
   "execution_count": 33,
   "id": "2a1bf91d-4a5a-42dd-8e9f-c2e4b8c6de80",
   "metadata": {},
   "outputs": [
    {
     "name": "stdout",
     "output_type": "stream",
     "text": [
      "Baseline guess for global sales is: 0.23\n",
      "Baseline Performance on the test set: MAE = 0.2787\n",
      "Baseline Performance on the test set: R² Score = -0.1686\n"
     ]
    }
   ],
   "source": [
    "from sklearn.metrics import r2_score\n",
    "\n",
    "# Baseline prediction: median of training target\n",
    "baseline_guess = np.median(target_train)\n",
    "\n",
    "# Make predictions: same value for all test samples\n",
    "baseline_predictions = np.full_like(target_test, baseline_guess)\n",
    "\n",
    "# Calculate MAE\n",
    "basic_baseline_mae = mae(target_test, baseline_predictions)\n",
    "\n",
    "# Calculate R² Score\n",
    "basic_baseline_r2 = r2_score(target_test, baseline_predictions)\n",
    "\n",
    "# Print results\n",
    "print(\"Baseline guess for global sales is: {:.02f}\".format(baseline_guess))\n",
    "print(\"Baseline Performance on the test set: MAE = {:.04f}\".format(basic_baseline_mae))\n",
    "print(\"Baseline Performance on the test set: R² Score = {:.04f}\".format(basic_baseline_r2))\n"
   ]
  },
  {
   "cell_type": "code",
   "execution_count": 34,
   "id": "511f9bb2-ec45-45c9-8ddb-dc207cc96180",
   "metadata": {},
   "outputs": [],
   "source": [
    "from sklearn.linear_model import LinearRegression, Ridge\n",
    "from sklearn.ensemble import RandomForestRegressor, GradientBoostingRegressor\n",
    "from sklearn.svm import SVR\n",
    "from sklearn.neighbors import KNeighborsRegressor"
   ]
  },
  {
   "cell_type": "code",
   "execution_count": 36,
   "id": "8e920b36-a1cd-48f0-b615-cfc4a2d6ac1f",
   "metadata": {},
   "outputs": [],
   "source": [
    "from sklearn.metrics import r2_score\n",
    "\n",
    "def fit_and_evaluate(model):\n",
    "    # Train the model\n",
    "    model.fit(features_train, target_train)\n",
    "    \n",
    "    # Make predictions\n",
    "    model_pred = model.predict(features_test)\n",
    "    \n",
    "    # Calculate MAE\n",
    "    model_mae = mae(target_test, model_pred)\n",
    "    \n",
    "    # Calculate R² Score\n",
    "    model_r2 = r2_score(target_test, model_pred)\n",
    "    \n",
    "    # Print and return both metrics\n",
    "    print(f\"Model Performance:\\n - MAE = {model_mae:.4f}\\n - R² Score = {model_r2:.4f}\")\n",
    "    \n",
    "    return model_mae, model_r2\n"
   ]
  },
  {
   "cell_type": "code",
   "execution_count": 37,
   "id": "89086dc2-41d2-42c7-aa40-83ee26665a21",
   "metadata": {},
   "outputs": [
    {
     "name": "stdout",
     "output_type": "stream",
     "text": [
      "Model Performance:\n",
      " - MAE = 0.2364\n",
      " - R² Score = 0.3052\n",
      "Linear Regression Performance on the test set:\n",
      " - MAE = 0.2364\n",
      " - R² = 0.3052\n"
     ]
    }
   ],
   "source": [
    "lr = LinearRegression()\n",
    "results = fit_and_evaluate(lr)\n",
    "\n",
    "print(\"Linear Regression Performance on the test set:\\n - MAE = {:.04f}\\n - R² = {:.04f}\".format(results[0], results[1]))\n"
   ]
  },
  {
   "cell_type": "code",
   "execution_count": 42,
   "id": "e86b0110-abc3-41c1-944f-e8f3e13f81b1",
   "metadata": {},
   "outputs": [
    {
     "name": "stdout",
     "output_type": "stream",
     "text": [
      "Model Performance:\n",
      " - MAE = 0.2224\n",
      " - R² Score = 0.3562\n",
      "Random Forest Regression Performance on the test set:\n",
      " - MAE = 0.2224\n",
      " - R² Score = 0.3562\n"
     ]
    }
   ],
   "source": [
    "random_forest = RandomForestRegressor(random_state=42)\n",
    "random_forest_mae, random_forest_r2 = fit_and_evaluate(random_forest)\n",
    "\n",
    "print(\"Random Forest Regression Performance on the test set:\")\n",
    "print(\" - MAE = {:.04f}\".format(random_forest_mae))\n",
    "print(\" - R² Score = {:.04f}\".format(random_forest_r2))"
   ]
  },
  {
   "cell_type": "code",
   "execution_count": 39,
   "id": "f886766e-d696-4fd9-ac22-126b8861ee1e",
   "metadata": {},
   "outputs": [
    {
     "name": "stdout",
     "output_type": "stream",
     "text": [
      "Model Performance:\n",
      " - MAE = 0.2195\n",
      " - R² Score = 0.3766\n",
      "Gradient Boosting Regression Performance on the test set:\n",
      " - MAE = 0.2195\n",
      " - R² Score = 0.3766\n"
     ]
    }
   ],
   "source": [
    "gradient_boosting = GradientBoostingRegressor(random_state=60)\n",
    "gradient_boosting_mae, gradient_boosting_r2 = fit_and_evaluate(gradient_boosting)\n",
    "\n",
    "print(\"Gradient Boosting Regression Performance on the test set:\")\n",
    "print(\" - MAE = {:.04f}\".format(gradient_boosting_mae))\n",
    "print(\" - R² Score = {:.04f}\".format(gradient_boosting_r2))"
   ]
  },
  {
   "cell_type": "code",
   "execution_count": null,
   "id": "6e3f8d28-d02a-4389-bbeb-51b0f3209998",
   "metadata": {},
   "outputs": [],
   "source": []
  }
 ],
 "metadata": {
  "kernelspec": {
   "display_name": "Python 3 (ipykernel)",
   "language": "python",
   "name": "python3"
  },
  "language_info": {
   "codemirror_mode": {
    "name": "ipython",
    "version": 3
   },
   "file_extension": ".py",
   "mimetype": "text/x-python",
   "name": "python",
   "nbconvert_exporter": "python",
   "pygments_lexer": "ipython3",
   "version": "3.12.6"
  }
 },
 "nbformat": 4,
 "nbformat_minor": 5
}
